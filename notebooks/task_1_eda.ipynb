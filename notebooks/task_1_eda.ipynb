{
 "cells": [
  {
   "cell_type": "code",
   "execution_count": 20,
   "id": "092dcc55",
   "metadata": {},
   "outputs": [],
   "source": [
    "# Import standard libraries\n",
    "import pandas as pd\n",
    "import numpy as np\n",
    "import sys\n",
    "\n",
    "# Visualization libraries\n",
    "import matplotlib.pyplot as plt\n",
    "import seaborn as sns\n",
    "import plotly.express as px\n",
    "\n",
    "\n",
    "sys.path.append('../src') \n",
    "\n",
    "from utils.data_loader import load_data\n",
    "\n"
   ]
  },
  {
   "cell_type": "code",
   "execution_count": 74,
   "id": "66e5bd42",
   "metadata": {},
   "outputs": [
    {
     "name": "stderr",
     "output_type": "stream",
     "text": [
      "d:\\projects\\TenAcademy\\week3\\KAIM-WEEK-3\\notebooks\\../src\\utils\\data_loader.py:15: DtypeWarning: Columns (32,37) have mixed types. Specify dtype option on import or set low_memory=False.\n",
      "  data = pd.read_csv(file_path, delimiter=delimiter)\n"
     ]
    },
    {
     "name": "stdout",
     "output_type": "stream",
     "text": [
      "Data loaded successfully from ../data/MachineLearningRating_v3.txt\n"
     ]
    }
   ],
   "source": [
    "df=load_data(\"../data/MachineLearningRating_v3.txt\",delimiter=\"|\")"
   ]
  },
  {
   "cell_type": "markdown",
   "id": "e7ba8a5d",
   "metadata": {},
   "source": [
    "1. Data Understanding "
   ]
  },
  {
   "cell_type": "code",
   "execution_count": 46,
   "id": "b9313588",
   "metadata": {},
   "outputs": [
    {
     "name": "stdout",
     "output_type": "stream",
     "text": [
      "<class 'pandas.core.frame.DataFrame'>\n",
      "RangeIndex: 1000098 entries, 0 to 1000097\n",
      "Data columns (total 52 columns):\n",
      " #   Column                    Non-Null Count    Dtype  \n",
      "---  ------                    --------------    -----  \n",
      " 0   UnderwrittenCoverID       1000098 non-null  int64  \n",
      " 1   PolicyID                  1000098 non-null  int64  \n",
      " 2   TransactionMonth          1000098 non-null  object \n",
      " 3   IsVATRegistered           1000098 non-null  bool   \n",
      " 4   Citizenship               1000098 non-null  object \n",
      " 5   LegalType                 1000098 non-null  object \n",
      " 6   Title                     1000098 non-null  object \n",
      " 7   Language                  1000098 non-null  object \n",
      " 8   Bank                      854137 non-null   object \n",
      " 9   AccountType               959866 non-null   object \n",
      " 10  MaritalStatus             991839 non-null   object \n",
      " 11  Gender                    990562 non-null   object \n",
      " 12  Country                   1000098 non-null  object \n",
      " 13  Province                  1000098 non-null  object \n",
      " 14  PostalCode                1000098 non-null  int64  \n",
      " 15  MainCrestaZone            1000098 non-null  object \n",
      " 16  SubCrestaZone             1000098 non-null  object \n",
      " 17  ItemType                  1000098 non-null  object \n",
      " 18  mmcode                    999546 non-null   float64\n",
      " 19  VehicleType               999546 non-null   object \n",
      " 20  RegistrationYear          1000098 non-null  int64  \n",
      " 21  make                      999546 non-null   object \n",
      " 22  Model                     999546 non-null   object \n",
      " 23  Cylinders                 999546 non-null   float64\n",
      " 24  cubiccapacity             999546 non-null   float64\n",
      " 25  kilowatts                 999546 non-null   float64\n",
      " 26  bodytype                  999546 non-null   object \n",
      " 27  NumberOfDoors             999546 non-null   float64\n",
      " 28  VehicleIntroDate          999546 non-null   object \n",
      " 29  CustomValueEstimate       220456 non-null   float64\n",
      " 30  AlarmImmobiliser          1000098 non-null  object \n",
      " 31  TrackingDevice            1000098 non-null  object \n",
      " 32  CapitalOutstanding        1000096 non-null  object \n",
      " 33  NewVehicle                846803 non-null   object \n",
      " 34  WrittenOff                358197 non-null   object \n",
      " 35  Rebuilt                   358197 non-null   object \n",
      " 36  Converted                 358197 non-null   object \n",
      " 37  CrossBorder               698 non-null      object \n",
      " 38  NumberOfVehiclesInFleet   0 non-null        float64\n",
      " 39  SumInsured                1000098 non-null  float64\n",
      " 40  TermFrequency             1000098 non-null  object \n",
      " 41  CalculatedPremiumPerTerm  1000098 non-null  float64\n",
      " 42  ExcessSelected            1000098 non-null  object \n",
      " 43  CoverCategory             1000098 non-null  object \n",
      " 44  CoverType                 1000098 non-null  object \n",
      " 45  CoverGroup                1000098 non-null  object \n",
      " 46  Section                   1000098 non-null  object \n",
      " 47  Product                   1000098 non-null  object \n",
      " 48  StatutoryClass            1000098 non-null  object \n",
      " 49  StatutoryRiskType         1000098 non-null  object \n",
      " 50  TotalPremium              1000098 non-null  float64\n",
      " 51  TotalClaims               1000098 non-null  float64\n",
      "dtypes: bool(1), float64(11), int64(4), object(36)\n",
      "memory usage: 390.1+ MB\n"
     ]
    }
   ],
   "source": [
    "df.info()"
   ]
  },
  {
   "cell_type": "markdown",
   "id": "7004637b",
   "metadata": {},
   "source": [
    "1.2 DataType Rreview\n",
    "\n",
    "From df.info() output:\n",
    "Most numeric fields (int64, float64) look appropriate.\n",
    "A few fields need conversion from object to proper types.\n",
    "Some object fields are actually dates, booleans, or categoricals."
   ]
  },
  {
   "cell_type": "markdown",
   "id": "a846cad5",
   "metadata": {},
   "source": [
    "1.2.1 Convert Date Column"
   ]
  },
  {
   "cell_type": "code",
   "execution_count": 47,
   "id": "34e97ace",
   "metadata": {},
   "outputs": [
    {
     "data": {
      "application/vnd.microsoft.datawrangler.viewer.v0+json": {
       "columns": [
        {
         "name": "index",
         "rawType": "int64",
         "type": "integer"
        },
        {
         "name": "TransactionMonth",
         "rawType": "object",
         "type": "string"
        }
       ],
       "ref": "e3dad297-d634-4225-82aa-8cf5bdb40e8e",
       "rows": [
        [
         "0",
         "2015-03-01 00:00:00"
        ],
        [
         "1",
         "2015-05-01 00:00:00"
        ],
        [
         "2",
         "2015-07-01 00:00:00"
        ],
        [
         "3",
         "2015-05-01 00:00:00"
        ],
        [
         "4",
         "2015-07-01 00:00:00"
        ],
        [
         "5",
         "2015-01-01 00:00:00"
        ],
        [
         "6",
         "2015-04-01 00:00:00"
        ],
        [
         "7",
         "2015-06-01 00:00:00"
        ],
        [
         "8",
         "2015-08-01 00:00:00"
        ],
        [
         "9",
         "2015-03-01 00:00:00"
        ],
        [
         "10",
         "2015-05-01 00:00:00"
        ],
        [
         "11",
         "2015-07-01 00:00:00"
        ],
        [
         "12",
         "2015-02-01 00:00:00"
        ],
        [
         "13",
         "2014-12-01 00:00:00"
        ],
        [
         "14",
         "2015-03-01 00:00:00"
        ],
        [
         "15",
         "2015-05-01 00:00:00"
        ],
        [
         "16",
         "2015-07-01 00:00:00"
        ],
        [
         "17",
         "2015-02-01 00:00:00"
        ],
        [
         "18",
         "2014-11-01 00:00:00"
        ],
        [
         "19",
         "2015-01-01 00:00:00"
        ],
        [
         "20",
         "2015-04-01 00:00:00"
        ],
        [
         "21",
         "2015-06-01 00:00:00"
        ],
        [
         "22",
         "2015-08-01 00:00:00"
        ],
        [
         "23",
         "2015-02-01 00:00:00"
        ],
        [
         "24",
         "2014-11-01 00:00:00"
        ],
        [
         "25",
         "2015-01-01 00:00:00"
        ],
        [
         "26",
         "2015-04-01 00:00:00"
        ],
        [
         "27",
         "2015-06-01 00:00:00"
        ],
        [
         "28",
         "2015-08-01 00:00:00"
        ],
        [
         "29",
         "2015-02-01 00:00:00"
        ],
        [
         "30",
         "2014-12-01 00:00:00"
        ],
        [
         "31",
         "2015-03-01 00:00:00"
        ],
        [
         "32",
         "2015-05-01 00:00:00"
        ],
        [
         "33",
         "2015-07-01 00:00:00"
        ],
        [
         "34",
         "2015-02-01 00:00:00"
        ],
        [
         "35",
         "2014-11-01 00:00:00"
        ],
        [
         "36",
         "2015-01-01 00:00:00"
        ],
        [
         "37",
         "2015-04-01 00:00:00"
        ],
        [
         "38",
         "2015-06-01 00:00:00"
        ],
        [
         "39",
         "2014-10-01 00:00:00"
        ],
        [
         "40",
         "2014-12-01 00:00:00"
        ],
        [
         "41",
         "2015-03-01 00:00:00"
        ],
        [
         "42",
         "2015-05-01 00:00:00"
        ],
        [
         "43",
         "2015-07-01 00:00:00"
        ],
        [
         "44",
         "2015-02-01 00:00:00"
        ],
        [
         "45",
         "2015-02-01 00:00:00"
        ],
        [
         "46",
         "2014-12-01 00:00:00"
        ],
        [
         "47",
         "2015-03-01 00:00:00"
        ],
        [
         "48",
         "2015-05-01 00:00:00"
        ],
        [
         "49",
         "2015-07-01 00:00:00"
        ]
       ],
       "shape": {
        "columns": 1,
        "rows": 1000098
       }
      },
      "text/plain": [
       "0          2015-03-01 00:00:00\n",
       "1          2015-05-01 00:00:00\n",
       "2          2015-07-01 00:00:00\n",
       "3          2015-05-01 00:00:00\n",
       "4          2015-07-01 00:00:00\n",
       "                  ...         \n",
       "1000093    2015-04-01 00:00:00\n",
       "1000094    2015-06-01 00:00:00\n",
       "1000095    2015-08-01 00:00:00\n",
       "1000096    2014-07-01 00:00:00\n",
       "1000097    2015-02-01 00:00:00\n",
       "Name: TransactionMonth, Length: 1000098, dtype: object"
      ]
     },
     "execution_count": 47,
     "metadata": {},
     "output_type": "execute_result"
    }
   ],
   "source": [
    "df[\"TransactionMonth\"]"
   ]
  },
  {
   "cell_type": "code",
   "execution_count": 76,
   "id": "88b2be6c",
   "metadata": {},
   "outputs": [],
   "source": [
    "df[\"TransactionMonth\"] = pd.to_datetime(df[\"TransactionMonth\"], errors='coerce')\n"
   ]
  },
  {
   "cell_type": "markdown",
   "id": "97f57e87",
   "metadata": {},
   "source": [
    "1.2.2 Convert VehicleIntroDate to datetime"
   ]
  },
  {
   "cell_type": "code",
   "execution_count": 49,
   "id": "1a2cc384",
   "metadata": {},
   "outputs": [
    {
     "name": "stdout",
     "output_type": "stream",
     "text": [
      "0                          6/2002\n",
      "1                          6/2002\n",
      "2                          6/2002\n",
      "3                          6/2002\n",
      "4                          6/2002\n",
      "                    ...          \n",
      "1000093    2013/01/01 12:00:00 AM\n",
      "1000094    2013/01/01 12:00:00 AM\n",
      "1000095    2013/01/01 12:00:00 AM\n",
      "1000096    2013/01/01 12:00:00 AM\n",
      "1000097    2013/01/01 12:00:00 AM\n",
      "Name: VehicleIntroDate, Length: 1000098, dtype: object\n"
     ]
    }
   ],
   "source": [
    "print(df[\"VehicleIntroDate\"])"
   ]
  },
  {
   "cell_type": "code",
   "execution_count": 77,
   "id": "0aa18e26",
   "metadata": {},
   "outputs": [],
   "source": [
    "from utils.clean_data import clean_vehicle_intro_date\n",
    "\n",
    "df[\"VehicleIntroDate\"] = df[\"VehicleIntroDate\"].apply(clean_vehicle_intro_date)\n"
   ]
  },
  {
   "cell_type": "code",
   "execution_count": 51,
   "id": "425b97fb",
   "metadata": {},
   "outputs": [
    {
     "data": {
      "application/vnd.microsoft.datawrangler.viewer.v0+json": {
       "columns": [
        {
         "name": "index",
         "rawType": "int64",
         "type": "integer"
        },
        {
         "name": "VehicleIntroDate",
         "rawType": "datetime64[ns]",
         "type": "datetime"
        }
       ],
       "ref": "0c84d965-abe7-410a-8ec6-8f2437d3db9d",
       "rows": [
        [
         "0",
         "2002-06-01 00:00:00"
        ],
        [
         "1",
         "2002-06-01 00:00:00"
        ],
        [
         "2",
         "2002-06-01 00:00:00"
        ],
        [
         "3",
         "2002-06-01 00:00:00"
        ],
        [
         "4",
         "2002-06-01 00:00:00"
        ],
        [
         "5",
         "2002-06-01 00:00:00"
        ],
        [
         "6",
         "2002-06-01 00:00:00"
        ],
        [
         "7",
         "2002-06-01 00:00:00"
        ],
        [
         "8",
         "2002-06-01 00:00:00"
        ],
        [
         "9",
         "2002-06-01 00:00:00"
        ],
        [
         "10",
         "2002-06-01 00:00:00"
        ],
        [
         "11",
         "2002-06-01 00:00:00"
        ],
        [
         "12",
         "2004-03-01 00:00:00"
        ],
        [
         "13",
         "2004-03-01 00:00:00"
        ],
        [
         "14",
         "2004-03-01 00:00:00"
        ],
        [
         "15",
         "2004-03-01 00:00:00"
        ],
        [
         "16",
         "2004-03-01 00:00:00"
        ],
        [
         "17",
         "2004-03-01 00:00:00"
        ],
        [
         "18",
         "2003-02-01 00:00:00"
        ],
        [
         "19",
         "2003-02-01 00:00:00"
        ],
        [
         "20",
         "2003-02-01 00:00:00"
        ],
        [
         "21",
         "2003-02-01 00:00:00"
        ],
        [
         "22",
         "2003-02-01 00:00:00"
        ],
        [
         "23",
         "2003-02-01 00:00:00"
        ],
        [
         "24",
         "2005-06-01 00:00:00"
        ],
        [
         "25",
         "2005-06-01 00:00:00"
        ],
        [
         "26",
         "2005-06-01 00:00:00"
        ],
        [
         "27",
         "2005-06-01 00:00:00"
        ],
        [
         "28",
         "2005-06-01 00:00:00"
        ],
        [
         "29",
         "2005-06-01 00:00:00"
        ],
        [
         "30",
         "2005-06-01 00:00:00"
        ],
        [
         "31",
         "2005-06-01 00:00:00"
        ],
        [
         "32",
         "2005-06-01 00:00:00"
        ],
        [
         "33",
         "2005-06-01 00:00:00"
        ],
        [
         "34",
         "2005-06-01 00:00:00"
        ],
        [
         "35",
         "2005-06-01 00:00:00"
        ],
        [
         "36",
         "2005-06-01 00:00:00"
        ],
        [
         "37",
         "2005-06-01 00:00:00"
        ],
        [
         "38",
         "2005-06-01 00:00:00"
        ],
        [
         "39",
         "2005-06-01 00:00:00"
        ],
        [
         "40",
         "2005-06-01 00:00:00"
        ],
        [
         "41",
         "2005-06-01 00:00:00"
        ],
        [
         "42",
         "2005-06-01 00:00:00"
        ],
        [
         "43",
         "2005-06-01 00:00:00"
        ],
        [
         "44",
         "2008-11-01 00:00:00"
        ],
        [
         "45",
         "2008-11-01 00:00:00"
        ],
        [
         "46",
         "2008-11-01 00:00:00"
        ],
        [
         "47",
         "2008-11-01 00:00:00"
        ],
        [
         "48",
         "2008-11-01 00:00:00"
        ],
        [
         "49",
         "2008-11-01 00:00:00"
        ]
       ],
       "shape": {
        "columns": 1,
        "rows": 1000098
       }
      },
      "text/plain": [
       "0         2002-06-01\n",
       "1         2002-06-01\n",
       "2         2002-06-01\n",
       "3         2002-06-01\n",
       "4         2002-06-01\n",
       "             ...    \n",
       "1000093   2013-01-01\n",
       "1000094   2013-01-01\n",
       "1000095   2013-01-01\n",
       "1000096   2013-01-01\n",
       "1000097   2013-01-01\n",
       "Name: VehicleIntroDate, Length: 1000098, dtype: datetime64[ns]"
      ]
     },
     "execution_count": 51,
     "metadata": {},
     "output_type": "execute_result"
    }
   ],
   "source": [
    "df[\"VehicleIntroDate\"]"
   ]
  },
  {
   "cell_type": "markdown",
   "id": "60dfedd8",
   "metadata": {},
   "source": [
    "1.3 Convert to Boolean "
   ]
  },
  {
   "cell_type": "code",
   "execution_count": 78,
   "id": "c9e8ded9",
   "metadata": {},
   "outputs": [
    {
     "name": "stdout",
     "output_type": "stream",
     "text": [
      "\n",
      "Unique values in 'AlarmImmobiliser':\n",
      "['Yes' 'No']\n",
      "\n",
      "Unique values in 'TrackingDevice':\n",
      "['No' 'Yes']\n",
      "\n",
      "Unique values in 'CapitalOutstanding':\n",
      "[119300 161000 52700 ... 312900.0 13700.0 184500.0]\n",
      "\n",
      "Unique values in 'NewVehicle':\n",
      "['More than 6 months' nan 'Less than 6 months']\n",
      "\n",
      "Unique values in 'WrittenOff':\n",
      "[nan 'No' 'Yes']\n",
      "\n",
      "Unique values in 'Rebuilt':\n",
      "[nan 'No' 'Yes']\n",
      "\n",
      "Unique values in 'Converted':\n",
      "[nan 'No' 'Yes']\n"
     ]
    }
   ],
   "source": [
    "for col in [\"AlarmImmobiliser\", \"TrackingDevice\", \"CapitalOutstanding\", \"NewVehicle\", \"WrittenOff\", \"Rebuilt\", \"Converted\"]:\n",
    "    print(f\"\\nUnique values in '{col}':\")\n",
    "    print(df[col].unique())\n"
   ]
  },
  {
   "cell_type": "code",
   "execution_count": 79,
   "id": "8391b77a",
   "metadata": {},
   "outputs": [],
   "source": [
    "yes_no_mapping = {\"Yes\": True, \"No\": False}\n",
    "\n",
    "for col in [\"AlarmImmobiliser\", \"TrackingDevice\", \"WrittenOff\", \"Rebuilt\", \"Converted\"]:\n",
    "    df[col] = df[col].map(yes_no_mapping)\n"
   ]
  },
  {
   "cell_type": "markdown",
   "id": "bac3c010",
   "metadata": {},
   "source": [
    "Convert to category"
   ]
  },
  {
   "cell_type": "code",
   "execution_count": 80,
   "id": "8e60f789",
   "metadata": {},
   "outputs": [
    {
     "name": "stdout",
     "output_type": "stream",
     "text": [
      "\n",
      "Column: Province\n",
      "Unique values (9):\n",
      "['Gauteng' 'KwaZulu-Natal' 'Mpumalanga' 'Eastern Cape' 'Western Cape'\n",
      " 'Limpopo' 'North West' 'Free State' 'Northern Cape']\n",
      "\n",
      "Column: VehicleType\n",
      "Unique values (5):\n",
      "['Passenger Vehicle' 'Medium Commercial' 'Heavy Commercial'\n",
      " 'Light Commercial' 'Bus' nan]\n",
      "\n",
      "Column: make\n",
      "Unique values (46):\n",
      "['MERCEDES-BENZ' 'VOLKSWAGEN' 'RENAULT' 'FORD' 'BMW' 'AUDI' 'VOLVO'\n",
      " 'PROTON' 'TOYOTA' 'NISSAN/DATSUN                      ']\n",
      "\n",
      "Column: Model\n",
      "Unique values (411):\n",
      "['E 240' 'TOUAREG 5.0 V10 TDI TIP' 'SCENIC 1.9 dCi EXPRESSION'\n",
      " 'TERRITORY 4.0i GHIA AWD A/T' '320i (E90)' 'FIESTA 1.6 SPORT 5Dr'\n",
      " 'A4 1.8T ATTRACTION (B8)' 'S40 T5 A/T' 'SAVVY 1.2 SPORT' 'GEN 2 1.6 GL']\n",
      "\n",
      "Column: bodytype\n",
      "Unique values (13):\n",
      "['S/D' 'SUV' 'MPV' 'H/B' 'P/V' 'B/S' 'S/W' 'C/C' 'D/C' 'D/S']\n",
      "\n",
      "Column: CoverType\n",
      "Unique values (22):\n",
      "['Windscreen' 'Own Damage' 'Third Party' 'Passenger Liability'\n",
      " 'Signage and Vehicle Wraps' 'Keys and Alarms'\n",
      " 'Cleaning and Removal of Accident Debris' 'Emergency Charges'\n",
      " 'Credit Protection' 'Roadside Assistance']\n",
      "\n",
      "Column: CoverCategory\n",
      "Unique values (28):\n",
      "['Windscreen' 'Own damage' 'Third Party' 'Passenger Liability'\n",
      " 'Signage and Vehicle Wraps' 'Keys and Alarms'\n",
      " 'Cleaning and Removal of Accident Debris' 'Emergency Charges'\n",
      " 'Credit Protection' 'Roadside Assistance']\n",
      "\n",
      "Column: CoverGroup\n",
      "Unique values (14):\n",
      "['Comprehensive - Taxi' 'Credit Protection' 'Accidental Death'\n",
      " 'Basic Excess Waiver' 'Income Protector' 'Deposit Cover'\n",
      " 'Standalone passenger liability' 'Baggage/Luggage'\n",
      " 'Asset Value Preserver' 'Cash Takings']\n",
      "\n",
      "Column: Product\n",
      "Unique values (4):\n",
      "['Mobility Metered Taxis: Monthly' 'Mobility Commercial Cover: Monthly'\n",
      " 'Standalone Passenger Liability' 'Bridge Taxi Finance: Monthly']\n",
      "\n",
      "Column: StatutoryClass\n",
      "Unique values (1):\n",
      "['Commercial']\n",
      "\n",
      "Column: StatutoryRiskType\n",
      "Unique values (1):\n",
      "['IFRS Constant']\n",
      "\n",
      "Column: TermFrequency\n",
      "Unique values (2):\n",
      "['Monthly' 'Annual']\n",
      "\n",
      "Column: Section\n",
      "Unique values (5):\n",
      "['Motor Comprehensive' 'Credit Protection' 'Optional Extended Covers'\n",
      " 'Standalone passenger liability'\n",
      " 'Third party or third party, fire and theft only']\n"
     ]
    }
   ],
   "source": [
    "cat_cols = [\n",
    "    \"Province\", \"VehicleType\", \"make\", \"Model\", \"bodytype\",\n",
    "    \"CoverType\", \"CoverCategory\", \"CoverGroup\", \"Product\",\n",
    "    \"StatutoryClass\", \"StatutoryRiskType\", \"TermFrequency\", \"Section\"\n",
    "]\n",
    "\n",
    "\n",
    "for col in cat_cols:\n",
    "    print(f\"\\nColumn: {col}\")\n",
    "    print(f\"Unique values ({df[col].nunique()}):\")\n",
    "    print(df[col].unique()[:10])  # Show first 10 unique values to avoid flooding\n"
   ]
  },
  {
   "cell_type": "code",
   "execution_count": 81,
   "id": "620506fb",
   "metadata": {},
   "outputs": [],
   "source": [
    "for col in cat_cols:\n",
    "    df[col] = df[col].astype(\"category\")"
   ]
  },
  {
   "cell_type": "markdown",
   "id": "be267547",
   "metadata": {},
   "source": [
    "Let's check the number of unique values in other object cols and see if we can convert it to category type"
   ]
  },
  {
   "cell_type": "code",
   "execution_count": 82,
   "id": "b21a3b03",
   "metadata": {},
   "outputs": [
    {
     "name": "stdout",
     "output_type": "stream",
     "text": [
      "Column: Citizenship, Unique values: 4, Percent unique: 0.0004%\n",
      "Column: LegalType, Unique values: 6, Percent unique: 0.0006%\n",
      "Column: Title, Unique values: 5, Percent unique: 0.0005%\n",
      "Column: Language, Unique values: 1, Percent unique: 0.0001%\n",
      "Column: Bank, Unique values: 11, Percent unique: 0.0011%\n",
      "Column: AccountType, Unique values: 3, Percent unique: 0.0003%\n",
      "Column: MaritalStatus, Unique values: 3, Percent unique: 0.0003%\n",
      "Column: Gender, Unique values: 3, Percent unique: 0.0003%\n",
      "Column: Country, Unique values: 1, Percent unique: 0.0001%\n",
      "Column: MainCrestaZone, Unique values: 16, Percent unique: 0.0016%\n",
      "Column: SubCrestaZone, Unique values: 45, Percent unique: 0.0045%\n",
      "Column: ItemType, Unique values: 1, Percent unique: 0.0001%\n",
      "Column: CapitalOutstanding, Unique values: 1011, Percent unique: 0.1011%\n",
      "Column: NewVehicle, Unique values: 2, Percent unique: 0.0002%\n",
      "Column: WrittenOff, Unique values: 2, Percent unique: 0.0002%\n",
      "Column: Rebuilt, Unique values: 2, Percent unique: 0.0002%\n",
      "Column: Converted, Unique values: 2, Percent unique: 0.0002%\n",
      "Column: CrossBorder, Unique values: 1, Percent unique: 0.0001%\n",
      "Column: ExcessSelected, Unique values: 13, Percent unique: 0.0013%\n"
     ]
    }
   ],
   "source": [
    "# List object dtype columns\n",
    "object_cols = df.select_dtypes(include='object').columns.tolist()\n",
    "\n",
    "# For each, get unique value counts\n",
    "for col in object_cols:\n",
    "    unique_count = df[col].nunique(dropna=True)\n",
    "    total_count = len(df)\n",
    "    print(f\"Column: {col}, Unique values: {unique_count}, Percent unique: {unique_count/total_count:.4%}\")\n"
   ]
  },
  {
   "cell_type": "code",
   "execution_count": 83,
   "id": "40d1db2e",
   "metadata": {},
   "outputs": [],
   "source": [
    "cols_to_cat = [\n",
    "    \"Citizenship\", \"LegalType\", \"Title\",  \"Bank\", \"AccountType\",\n",
    "    \"MaritalStatus\", \"Gender\",  \"MainCrestaZone\", \"SubCrestaZone\",\n",
    "   \"NewVehicle\", \"WrittenOff\", \"Rebuilt\", \"Converted\",\n",
    "    \"CrossBorder\", \"ExcessSelected\"\n",
    "]\n",
    "\n",
    "for col in cols_to_cat:\n",
    "    df[col] = df[col].astype('category')\n"
   ]
  },
  {
   "cell_type": "markdown",
   "id": "6767dc2f",
   "metadata": {},
   "source": [
    " Clean and convert CapitalOutstanding to numeric"
   ]
  },
  {
   "cell_type": "code",
   "execution_count": 84,
   "id": "388171cf",
   "metadata": {},
   "outputs": [
    {
     "name": "stdout",
     "output_type": "stream",
     "text": [
      "CapitalOutstanding dtype after conversion: float64\n"
     ]
    }
   ],
   "source": [
    "df['CapitalOutstanding'] = pd.to_numeric(df['CapitalOutstanding'], errors='coerce')\n",
    "print(f\"CapitalOutstanding dtype after conversion: {df['CapitalOutstanding'].dtype}\")\n"
   ]
  },
  {
   "cell_type": "code",
   "execution_count": 59,
   "id": "036f2ccb",
   "metadata": {},
   "outputs": [
    {
     "data": {
      "application/vnd.microsoft.datawrangler.viewer.v0+json": {
       "columns": [
        {
         "name": "index",
         "rawType": "object",
         "type": "string"
        },
        {
         "name": "0",
         "rawType": "object",
         "type": "unknown"
        }
       ],
       "ref": "3643e8e1-1932-42af-9cda-da2d9acd0129",
       "rows": [
        [
         "UnderwrittenCoverID",
         "int64"
        ],
        [
         "PolicyID",
         "int64"
        ],
        [
         "TransactionMonth",
         "datetime64[ns]"
        ],
        [
         "IsVATRegistered",
         "bool"
        ],
        [
         "Citizenship",
         "category"
        ],
        [
         "LegalType",
         "category"
        ],
        [
         "Title",
         "category"
        ],
        [
         "Language",
         "object"
        ],
        [
         "Bank",
         "category"
        ],
        [
         "AccountType",
         "category"
        ],
        [
         "MaritalStatus",
         "category"
        ],
        [
         "Gender",
         "category"
        ],
        [
         "Country",
         "object"
        ],
        [
         "Province",
         "category"
        ],
        [
         "PostalCode",
         "int64"
        ],
        [
         "MainCrestaZone",
         "category"
        ],
        [
         "SubCrestaZone",
         "category"
        ],
        [
         "ItemType",
         "object"
        ],
        [
         "mmcode",
         "float64"
        ],
        [
         "VehicleType",
         "category"
        ],
        [
         "RegistrationYear",
         "int64"
        ],
        [
         "make",
         "category"
        ],
        [
         "Model",
         "category"
        ],
        [
         "Cylinders",
         "float64"
        ],
        [
         "cubiccapacity",
         "float64"
        ],
        [
         "kilowatts",
         "float64"
        ],
        [
         "bodytype",
         "category"
        ],
        [
         "NumberOfDoors",
         "float64"
        ],
        [
         "VehicleIntroDate",
         "datetime64[ns]"
        ],
        [
         "CustomValueEstimate",
         "float64"
        ],
        [
         "AlarmImmobiliser",
         "bool"
        ],
        [
         "TrackingDevice",
         "bool"
        ],
        [
         "CapitalOutstanding",
         "float64"
        ],
        [
         "NewVehicle",
         "category"
        ],
        [
         "WrittenOff",
         "category"
        ],
        [
         "Rebuilt",
         "category"
        ],
        [
         "Converted",
         "category"
        ],
        [
         "CrossBorder",
         "category"
        ],
        [
         "NumberOfVehiclesInFleet",
         "float64"
        ],
        [
         "SumInsured",
         "float64"
        ],
        [
         "TermFrequency",
         "category"
        ],
        [
         "CalculatedPremiumPerTerm",
         "float64"
        ],
        [
         "ExcessSelected",
         "category"
        ],
        [
         "CoverCategory",
         "category"
        ],
        [
         "CoverType",
         "category"
        ],
        [
         "CoverGroup",
         "category"
        ],
        [
         "Section",
         "category"
        ],
        [
         "Product",
         "category"
        ],
        [
         "StatutoryClass",
         "category"
        ],
        [
         "StatutoryRiskType",
         "category"
        ]
       ],
       "shape": {
        "columns": 1,
        "rows": 52
       }
      },
      "text/plain": [
       "UnderwrittenCoverID                  int64\n",
       "PolicyID                             int64\n",
       "TransactionMonth            datetime64[ns]\n",
       "IsVATRegistered                       bool\n",
       "Citizenship                       category\n",
       "LegalType                         category\n",
       "Title                             category\n",
       "Language                            object\n",
       "Bank                              category\n",
       "AccountType                       category\n",
       "MaritalStatus                     category\n",
       "Gender                            category\n",
       "Country                             object\n",
       "Province                          category\n",
       "PostalCode                           int64\n",
       "MainCrestaZone                    category\n",
       "SubCrestaZone                     category\n",
       "ItemType                            object\n",
       "mmcode                             float64\n",
       "VehicleType                       category\n",
       "RegistrationYear                     int64\n",
       "make                              category\n",
       "Model                             category\n",
       "Cylinders                          float64\n",
       "cubiccapacity                      float64\n",
       "kilowatts                          float64\n",
       "bodytype                          category\n",
       "NumberOfDoors                      float64\n",
       "VehicleIntroDate            datetime64[ns]\n",
       "CustomValueEstimate                float64\n",
       "AlarmImmobiliser                      bool\n",
       "TrackingDevice                        bool\n",
       "CapitalOutstanding                 float64\n",
       "NewVehicle                        category\n",
       "WrittenOff                        category\n",
       "Rebuilt                           category\n",
       "Converted                         category\n",
       "CrossBorder                       category\n",
       "NumberOfVehiclesInFleet            float64\n",
       "SumInsured                         float64\n",
       "TermFrequency                     category\n",
       "CalculatedPremiumPerTerm           float64\n",
       "ExcessSelected                    category\n",
       "CoverCategory                     category\n",
       "CoverType                         category\n",
       "CoverGroup                        category\n",
       "Section                           category\n",
       "Product                           category\n",
       "StatutoryClass                    category\n",
       "StatutoryRiskType                 category\n",
       "TotalPremium                       float64\n",
       "TotalClaims                        float64\n",
       "dtype: object"
      ]
     },
     "execution_count": 59,
     "metadata": {},
     "output_type": "execute_result"
    }
   ],
   "source": [
    "df.dtypes"
   ]
  },
  {
   "cell_type": "markdown",
   "id": "bfd3c1af",
   "metadata": {},
   "source": [
    "2. Missing Values Check"
   ]
  },
  {
   "cell_type": "code",
   "execution_count": 85,
   "id": "73e0ebb7",
   "metadata": {},
   "outputs": [
    {
     "name": "stdout",
     "output_type": "stream",
     "text": [
      "                         Missing Count  Missing Percentage\n",
      "NumberOfVehiclesInFleet        1000098          100.000000\n",
      "CrossBorder                     999400           99.930207\n",
      "CustomValueEstimate             779642           77.956560\n",
      "Rebuilt                         641901           64.183810\n",
      "Converted                       641901           64.183810\n",
      "WrittenOff                      641901           64.183810\n",
      "NewVehicle                      153295           15.327998\n",
      "Bank                            145961           14.594670\n",
      "AccountType                      40232            4.022806\n",
      "Gender                            9536            0.953507\n",
      "MaritalStatus                     8259            0.825819\n",
      "VehicleType                        552            0.055195\n",
      "make                               552            0.055195\n",
      "mmcode                             552            0.055195\n",
      "Model                              552            0.055195\n",
      "Cylinders                          552            0.055195\n",
      "bodytype                           552            0.055195\n",
      "kilowatts                          552            0.055195\n",
      "NumberOfDoors                      552            0.055195\n",
      "VehicleIntroDate                   552            0.055195\n",
      "cubiccapacity                      552            0.055195\n",
      "CapitalOutstanding                 322            0.032197\n"
     ]
    }
   ],
   "source": [
    "missing = df.isnull().sum()\n",
    "missing_percent = (missing / len(df)) * 100\n",
    "missing_df = pd.DataFrame({\n",
    "    \"Missing Count\": missing,\n",
    "    \"Missing Percentage\": missing_percent\n",
    "}).sort_values(by=\"Missing Percentage\", ascending=False)\n",
    "\n",
    "print(missing_df[missing_df[\"Missing Count\"] > 0])"
   ]
  },
  {
   "cell_type": "markdown",
   "id": "c8d3ccf2",
   "metadata": {},
   "source": [
    "1. Drop cols with hight percentage of missing values"
   ]
  },
  {
   "cell_type": "code",
   "execution_count": 86,
   "id": "1c8a3d87",
   "metadata": {},
   "outputs": [],
   "source": [
    "# Drop completely empty or near-empty columns\n",
    "df.drop(columns=[\"NumberOfVehiclesInFleet\", \"CrossBorder\",'CustomValueEstimate'], inplace=True)"
   ]
  },
  {
   "cell_type": "markdown",
   "id": "f5f642cc",
   "metadata": {},
   "source": [
    "2. Categorical Columns with few missing (≤15%)"
   ]
  },
  {
   "cell_type": "code",
   "execution_count": 87,
   "id": "c8d91669",
   "metadata": {},
   "outputs": [],
   "source": [
    "# fill with 'Unknown'\n",
    "cat_fill_unknown = ['Bank', 'AccountType', 'NewVehicle']\n",
    "\n",
    "for col in cat_fill_unknown:\n",
    "    if 'Unknown' not in df[col].cat.categories:\n",
    "        df[col] = df[col].cat.add_categories('Unknown')\n",
    "    df[col] = df[col].fillna('Unknown')\n"
   ]
  },
  {
   "cell_type": "markdown",
   "id": "f99d136e",
   "metadata": {},
   "source": [
    "3. Yes/No columns with many missing values"
   ]
  },
  {
   "cell_type": "code",
   "execution_count": 88,
   "id": "4bada56c",
   "metadata": {},
   "outputs": [],
   "source": [
    "for col in ['Converted', 'WrittenOff', 'Rebuilt']:\n",
    "    df[col] = df[col].fillna(False)"
   ]
  },
  {
   "cell_type": "markdown",
   "id": "2c06e810",
   "metadata": {},
   "source": [
    "4.  Impute with mode — low-miss categorical"
   ]
  },
  {
   "cell_type": "code",
   "execution_count": 89,
   "id": "6fafcb3f",
   "metadata": {},
   "outputs": [],
   "source": [
    "for col in ['Gender', 'MaritalStatus']:\n",
    "    df[col] = df[col].fillna(df[col].mode()[0])\n"
   ]
  },
  {
   "cell_type": "markdown",
   "id": "9b208af3",
   "metadata": {},
   "source": [
    "5. Drop rows — small % of data"
   ]
  },
  {
   "cell_type": "code",
   "execution_count": 90,
   "id": "b23f5293",
   "metadata": {},
   "outputs": [],
   "source": [
    "df.dropna(subset=[\n",
    "    'make', 'Model', 'mmcode', 'Cylinders', 'cubiccapacity',\n",
    "    'kilowatts', 'bodytype', 'VehicleType', 'VehicleIntroDate',\n",
    "    'NumberOfDoors'\n",
    "], inplace=True)\n"
   ]
  },
  {
   "cell_type": "markdown",
   "id": "bb7b9ef6",
   "metadata": {},
   "source": [
    "6. Fill missing values in numeric with 0"
   ]
  },
  {
   "cell_type": "code",
   "execution_count": 92,
   "id": "26b137f5",
   "metadata": {},
   "outputs": [],
   "source": [
    "df['CapitalOutstanding'] = df['CapitalOutstanding'].fillna(0)"
   ]
  },
  {
   "cell_type": "code",
   "execution_count": 93,
   "id": "8074654c",
   "metadata": {},
   "outputs": [
    {
     "data": {
      "application/vnd.microsoft.datawrangler.viewer.v0+json": {
       "columns": [
        {
         "name": "index",
         "rawType": "object",
         "type": "string"
        },
        {
         "name": "0",
         "rawType": "int64",
         "type": "integer"
        }
       ],
       "ref": "17cb3d90-97f2-41ba-ad0a-da423518d0dd",
       "rows": [
        [
         "UnderwrittenCoverID",
         "0"
        ],
        [
         "PolicyID",
         "0"
        ],
        [
         "TransactionMonth",
         "0"
        ],
        [
         "IsVATRegistered",
         "0"
        ],
        [
         "Citizenship",
         "0"
        ],
        [
         "LegalType",
         "0"
        ],
        [
         "Title",
         "0"
        ],
        [
         "Language",
         "0"
        ],
        [
         "Bank",
         "0"
        ],
        [
         "AccountType",
         "0"
        ],
        [
         "MaritalStatus",
         "0"
        ],
        [
         "Gender",
         "0"
        ],
        [
         "Country",
         "0"
        ],
        [
         "Province",
         "0"
        ],
        [
         "PostalCode",
         "0"
        ],
        [
         "MainCrestaZone",
         "0"
        ],
        [
         "SubCrestaZone",
         "0"
        ],
        [
         "ItemType",
         "0"
        ],
        [
         "mmcode",
         "0"
        ],
        [
         "VehicleType",
         "0"
        ],
        [
         "RegistrationYear",
         "0"
        ],
        [
         "make",
         "0"
        ],
        [
         "Model",
         "0"
        ],
        [
         "Cylinders",
         "0"
        ],
        [
         "cubiccapacity",
         "0"
        ],
        [
         "kilowatts",
         "0"
        ],
        [
         "bodytype",
         "0"
        ],
        [
         "NumberOfDoors",
         "0"
        ],
        [
         "VehicleIntroDate",
         "0"
        ],
        [
         "AlarmImmobiliser",
         "0"
        ],
        [
         "TrackingDevice",
         "0"
        ],
        [
         "CapitalOutstanding",
         "0"
        ],
        [
         "NewVehicle",
         "0"
        ],
        [
         "WrittenOff",
         "0"
        ],
        [
         "Rebuilt",
         "0"
        ],
        [
         "Converted",
         "0"
        ],
        [
         "SumInsured",
         "0"
        ],
        [
         "TermFrequency",
         "0"
        ],
        [
         "CalculatedPremiumPerTerm",
         "0"
        ],
        [
         "ExcessSelected",
         "0"
        ],
        [
         "CoverCategory",
         "0"
        ],
        [
         "CoverType",
         "0"
        ],
        [
         "CoverGroup",
         "0"
        ],
        [
         "Section",
         "0"
        ],
        [
         "Product",
         "0"
        ],
        [
         "StatutoryClass",
         "0"
        ],
        [
         "StatutoryRiskType",
         "0"
        ],
        [
         "TotalPremium",
         "0"
        ],
        [
         "TotalClaims",
         "0"
        ]
       ],
       "shape": {
        "columns": 1,
        "rows": 49
       }
      },
      "text/plain": [
       "UnderwrittenCoverID         0\n",
       "PolicyID                    0\n",
       "TransactionMonth            0\n",
       "IsVATRegistered             0\n",
       "Citizenship                 0\n",
       "LegalType                   0\n",
       "Title                       0\n",
       "Language                    0\n",
       "Bank                        0\n",
       "AccountType                 0\n",
       "MaritalStatus               0\n",
       "Gender                      0\n",
       "Country                     0\n",
       "Province                    0\n",
       "PostalCode                  0\n",
       "MainCrestaZone              0\n",
       "SubCrestaZone               0\n",
       "ItemType                    0\n",
       "mmcode                      0\n",
       "VehicleType                 0\n",
       "RegistrationYear            0\n",
       "make                        0\n",
       "Model                       0\n",
       "Cylinders                   0\n",
       "cubiccapacity               0\n",
       "kilowatts                   0\n",
       "bodytype                    0\n",
       "NumberOfDoors               0\n",
       "VehicleIntroDate            0\n",
       "AlarmImmobiliser            0\n",
       "TrackingDevice              0\n",
       "CapitalOutstanding          0\n",
       "NewVehicle                  0\n",
       "WrittenOff                  0\n",
       "Rebuilt                     0\n",
       "Converted                   0\n",
       "SumInsured                  0\n",
       "TermFrequency               0\n",
       "CalculatedPremiumPerTerm    0\n",
       "ExcessSelected              0\n",
       "CoverCategory               0\n",
       "CoverType                   0\n",
       "CoverGroup                  0\n",
       "Section                     0\n",
       "Product                     0\n",
       "StatutoryClass              0\n",
       "StatutoryRiskType           0\n",
       "TotalPremium                0\n",
       "TotalClaims                 0\n",
       "dtype: int64"
      ]
     },
     "execution_count": 93,
     "metadata": {},
     "output_type": "execute_result"
    }
   ],
   "source": [
    "df.isna().sum()"
   ]
  },
  {
   "cell_type": "markdown",
   "id": "e001f95b",
   "metadata": {},
   "source": [
    "3. Check for duplicate rows"
   ]
  },
  {
   "cell_type": "code",
   "execution_count": 95,
   "id": "6f4ae698",
   "metadata": {},
   "outputs": [
    {
     "name": "stdout",
     "output_type": "stream",
     "text": [
      "Duplicates: 74\n"
     ]
    }
   ],
   "source": [
    "print(\"Duplicates:\", df.duplicated().sum())\n"
   ]
  },
  {
   "cell_type": "code",
   "execution_count": 96,
   "id": "53747842",
   "metadata": {},
   "outputs": [
    {
     "name": "stdout",
     "output_type": "stream",
     "text": [
      "Number of duplicate rows after removal: 0\n"
     ]
    }
   ],
   "source": [
    "df = df.drop_duplicates()\n",
    "\n",
    "# Confirm duplicates are removed\n",
    "print(f\"Number of duplicate rows after removal: {df.duplicated().sum()}\")"
   ]
  },
  {
   "cell_type": "markdown",
   "id": "efe5f7b7",
   "metadata": {},
   "source": [
    "## EDA Sumary\n",
    "\n",
    "I performed exploratory data analysis on the car insurance claims dataset to understand the data distribution and quality. I examined the data types and unique values, identifying categorical, numerical, and boolean features. Missing data analysis revealed some columns with very high missingness, such as CustomValueEstimate, which I dropped to maintain data integrity. For columns with moderate missing values, I applied sensible imputations — for example, filling boolean flags with False and categorical variables with a new category \"Unknown\". This cleaning step ensures the dataset is ready for further analysis and modeling while preserving meaningful information. I have also removed 74 duplicate values"
   ]
  },
  {
   "cell_type": "code",
   "execution_count": null,
   "id": "22328e04",
   "metadata": {},
   "outputs": [
    {
     "data": {
      "application/vnd.microsoft.datawrangler.viewer.v0+json": {
       "columns": [
        {
         "name": "index",
         "rawType": "object",
         "type": "string"
        },
        {
         "name": "UnderwrittenCoverID",
         "rawType": "float64",
         "type": "float"
        },
        {
         "name": "PolicyID",
         "rawType": "float64",
         "type": "float"
        },
        {
         "name": "TransactionMonth",
         "rawType": "object",
         "type": "unknown"
        },
        {
         "name": "PostalCode",
         "rawType": "float64",
         "type": "float"
        },
        {
         "name": "mmcode",
         "rawType": "float64",
         "type": "float"
        },
        {
         "name": "RegistrationYear",
         "rawType": "float64",
         "type": "float"
        },
        {
         "name": "Cylinders",
         "rawType": "float64",
         "type": "float"
        },
        {
         "name": "cubiccapacity",
         "rawType": "float64",
         "type": "float"
        },
        {
         "name": "kilowatts",
         "rawType": "float64",
         "type": "float"
        },
        {
         "name": "NumberOfDoors",
         "rawType": "float64",
         "type": "float"
        },
        {
         "name": "VehicleIntroDate",
         "rawType": "object",
         "type": "unknown"
        },
        {
         "name": "CustomValueEstimate",
         "rawType": "float64",
         "type": "float"
        },
        {
         "name": "CapitalOutstanding",
         "rawType": "float64",
         "type": "float"
        },
        {
         "name": "NumberOfVehiclesInFleet",
         "rawType": "float64",
         "type": "float"
        },
        {
         "name": "SumInsured",
         "rawType": "float64",
         "type": "float"
        },
        {
         "name": "CalculatedPremiumPerTerm",
         "rawType": "float64",
         "type": "float"
        },
        {
         "name": "TotalPremium",
         "rawType": "float64",
         "type": "float"
        },
        {
         "name": "TotalClaims",
         "rawType": "float64",
         "type": "float"
        }
       ],
       "ref": "20fcdbc4-2fc5-439d-b4c7-ee5c4384293c",
       "rows": [
        [
         "count",
         "1000098.0",
         "1000098.0",
         "1000098",
         "1000098.0",
         "999546.0",
         "1000098.0",
         "999546.0",
         "999546.0",
         "999546.0",
         "999546.0",
         "999546",
         "220456.0",
         "999776.0",
         "0.0",
         "1000098.0",
         "1000098.0",
         "1000098.0",
         "1000098.0"
        ],
        [
         "mean",
         "104817.5460754846",
         "7956.682450119888",
         "2015-02-28 10:49:29.147423744",
         "3020.600887113063",
         "54877704.02047429",
         "2010.2253709136505",
         "4.0466421755476985",
         "2466.7432584393314",
         "97.20791939540551",
         "4.019249739381679",
         "2008-04-20 17:04:04.990425600",
         "225531.1299417571",
         "52605.22079645841",
         null,
         "604172.732588964",
         "117.87569130125243",
         "61.90549595782839",
         "64.86118977410388"
        ],
        [
         "min",
         "1.0",
         "14.0",
         "2013-10-01 00:00:00",
         "1.0",
         "4041200.0",
         "1987.0",
         "0.0",
         "0.0",
         "0.0",
         "0.0",
         "1977-10-01 00:00:00",
         "20000.0",
         "-2.0",
         null,
         "0.01",
         "0.0",
         "-782.576754385965",
         "-12002.412280701796"
        ],
        [
         "25%",
         "55143.0",
         "4500.0",
         "2015-01-01 00:00:00",
         "827.0",
         "60056925.0",
         "2008.0",
         "4.0",
         "2237.0",
         "75.0",
         "4.0",
         "2007-11-01 00:00:00",
         "135000.0",
         "0.0",
         null,
         "5000.0",
         "3.2248",
         "0.0",
         "0.0"
        ],
        [
         "50%",
         "94083.0",
         "7071.0",
         "2015-04-01 00:00:00",
         "2000.0",
         "60058415.0",
         "2011.0",
         "4.0",
         "2694.0",
         "111.0",
         "4.0",
         "2010-10-01 00:00:00",
         "220000.0",
         "0.0",
         null,
         "7500.0",
         "8.4369",
         "2.178333333333",
         "0.0"
        ],
        [
         "75%",
         "139190.0",
         "11077.0",
         "2015-06-01 00:00:00",
         "4180.0",
         "60058418.0",
         "2013.0",
         "4.0",
         "2694.0",
         "111.0",
         "4.0",
         "2012-04-01 00:00:00",
         "280000.0",
         "0.0",
         null,
         "250000.0",
         "90.0",
         "21.929824561403",
         "0.0"
        ],
        [
         "max",
         "301175.0",
         "23246.0",
         "2015-08-01 00:00:00",
         "9870.0",
         "65065350.0",
         "2015.0",
         "10.0",
         "12880.0",
         "309.0",
         "6.0",
         "2014-09-01 00:00:00",
         "26550000.0",
         "700000.0",
         null,
         "12636200.0",
         "74422.1679",
         "65282.6034210526",
         "393092.105263158"
        ],
        [
         "std",
         "63293.70845512353",
         "5290.038509657953",
         null,
         "2649.85441334488",
         "13603805.343561785",
         "3.261391454005576",
         "0.2940201164817441",
         "442.8006402884938",
         "19.393255655193194",
         "0.468314430312715",
         null,
         "564515.7498478263",
         "111417.19082489308",
         null,
         "1508331.837996336",
         "399.7017210631286",
         "230.28451275764218",
         "2384.07469450152"
        ]
       ],
       "shape": {
        "columns": 18,
        "rows": 8
       }
      },
      "text/html": [
       "<div>\n",
       "<style scoped>\n",
       "    .dataframe tbody tr th:only-of-type {\n",
       "        vertical-align: middle;\n",
       "    }\n",
       "\n",
       "    .dataframe tbody tr th {\n",
       "        vertical-align: top;\n",
       "    }\n",
       "\n",
       "    .dataframe thead th {\n",
       "        text-align: right;\n",
       "    }\n",
       "</style>\n",
       "<table border=\"1\" class=\"dataframe\">\n",
       "  <thead>\n",
       "    <tr style=\"text-align: right;\">\n",
       "      <th></th>\n",
       "      <th>UnderwrittenCoverID</th>\n",
       "      <th>PolicyID</th>\n",
       "      <th>TransactionMonth</th>\n",
       "      <th>PostalCode</th>\n",
       "      <th>mmcode</th>\n",
       "      <th>RegistrationYear</th>\n",
       "      <th>Cylinders</th>\n",
       "      <th>cubiccapacity</th>\n",
       "      <th>kilowatts</th>\n",
       "      <th>NumberOfDoors</th>\n",
       "      <th>VehicleIntroDate</th>\n",
       "      <th>CustomValueEstimate</th>\n",
       "      <th>CapitalOutstanding</th>\n",
       "      <th>NumberOfVehiclesInFleet</th>\n",
       "      <th>SumInsured</th>\n",
       "      <th>CalculatedPremiumPerTerm</th>\n",
       "      <th>TotalPremium</th>\n",
       "      <th>TotalClaims</th>\n",
       "    </tr>\n",
       "  </thead>\n",
       "  <tbody>\n",
       "    <tr>\n",
       "      <th>count</th>\n",
       "      <td>1.000098e+06</td>\n",
       "      <td>1.000098e+06</td>\n",
       "      <td>1000098</td>\n",
       "      <td>1.000098e+06</td>\n",
       "      <td>9.995460e+05</td>\n",
       "      <td>1.000098e+06</td>\n",
       "      <td>999546.000000</td>\n",
       "      <td>999546.000000</td>\n",
       "      <td>999546.000000</td>\n",
       "      <td>999546.000000</td>\n",
       "      <td>999546</td>\n",
       "      <td>2.204560e+05</td>\n",
       "      <td>999776.000000</td>\n",
       "      <td>0.0</td>\n",
       "      <td>1.000098e+06</td>\n",
       "      <td>1.000098e+06</td>\n",
       "      <td>1.000098e+06</td>\n",
       "      <td>1.000098e+06</td>\n",
       "    </tr>\n",
       "    <tr>\n",
       "      <th>mean</th>\n",
       "      <td>1.048175e+05</td>\n",
       "      <td>7.956682e+03</td>\n",
       "      <td>2015-02-28 10:49:29.147423744</td>\n",
       "      <td>3.020601e+03</td>\n",
       "      <td>5.487770e+07</td>\n",
       "      <td>2.010225e+03</td>\n",
       "      <td>4.046642</td>\n",
       "      <td>2466.743258</td>\n",
       "      <td>97.207919</td>\n",
       "      <td>4.019250</td>\n",
       "      <td>2008-04-20 17:04:04.990425600</td>\n",
       "      <td>2.255311e+05</td>\n",
       "      <td>52605.220796</td>\n",
       "      <td>NaN</td>\n",
       "      <td>6.041727e+05</td>\n",
       "      <td>1.178757e+02</td>\n",
       "      <td>6.190550e+01</td>\n",
       "      <td>6.486119e+01</td>\n",
       "    </tr>\n",
       "    <tr>\n",
       "      <th>min</th>\n",
       "      <td>1.000000e+00</td>\n",
       "      <td>1.400000e+01</td>\n",
       "      <td>2013-10-01 00:00:00</td>\n",
       "      <td>1.000000e+00</td>\n",
       "      <td>4.041200e+06</td>\n",
       "      <td>1.987000e+03</td>\n",
       "      <td>0.000000</td>\n",
       "      <td>0.000000</td>\n",
       "      <td>0.000000</td>\n",
       "      <td>0.000000</td>\n",
       "      <td>1977-10-01 00:00:00</td>\n",
       "      <td>2.000000e+04</td>\n",
       "      <td>-2.000000</td>\n",
       "      <td>NaN</td>\n",
       "      <td>1.000000e-02</td>\n",
       "      <td>0.000000e+00</td>\n",
       "      <td>-7.825768e+02</td>\n",
       "      <td>-1.200241e+04</td>\n",
       "    </tr>\n",
       "    <tr>\n",
       "      <th>25%</th>\n",
       "      <td>5.514300e+04</td>\n",
       "      <td>4.500000e+03</td>\n",
       "      <td>2015-01-01 00:00:00</td>\n",
       "      <td>8.270000e+02</td>\n",
       "      <td>6.005692e+07</td>\n",
       "      <td>2.008000e+03</td>\n",
       "      <td>4.000000</td>\n",
       "      <td>2237.000000</td>\n",
       "      <td>75.000000</td>\n",
       "      <td>4.000000</td>\n",
       "      <td>2007-11-01 00:00:00</td>\n",
       "      <td>1.350000e+05</td>\n",
       "      <td>0.000000</td>\n",
       "      <td>NaN</td>\n",
       "      <td>5.000000e+03</td>\n",
       "      <td>3.224800e+00</td>\n",
       "      <td>0.000000e+00</td>\n",
       "      <td>0.000000e+00</td>\n",
       "    </tr>\n",
       "    <tr>\n",
       "      <th>50%</th>\n",
       "      <td>9.408300e+04</td>\n",
       "      <td>7.071000e+03</td>\n",
       "      <td>2015-04-01 00:00:00</td>\n",
       "      <td>2.000000e+03</td>\n",
       "      <td>6.005842e+07</td>\n",
       "      <td>2.011000e+03</td>\n",
       "      <td>4.000000</td>\n",
       "      <td>2694.000000</td>\n",
       "      <td>111.000000</td>\n",
       "      <td>4.000000</td>\n",
       "      <td>2010-10-01 00:00:00</td>\n",
       "      <td>2.200000e+05</td>\n",
       "      <td>0.000000</td>\n",
       "      <td>NaN</td>\n",
       "      <td>7.500000e+03</td>\n",
       "      <td>8.436900e+00</td>\n",
       "      <td>2.178333e+00</td>\n",
       "      <td>0.000000e+00</td>\n",
       "    </tr>\n",
       "    <tr>\n",
       "      <th>75%</th>\n",
       "      <td>1.391900e+05</td>\n",
       "      <td>1.107700e+04</td>\n",
       "      <td>2015-06-01 00:00:00</td>\n",
       "      <td>4.180000e+03</td>\n",
       "      <td>6.005842e+07</td>\n",
       "      <td>2.013000e+03</td>\n",
       "      <td>4.000000</td>\n",
       "      <td>2694.000000</td>\n",
       "      <td>111.000000</td>\n",
       "      <td>4.000000</td>\n",
       "      <td>2012-04-01 00:00:00</td>\n",
       "      <td>2.800000e+05</td>\n",
       "      <td>0.000000</td>\n",
       "      <td>NaN</td>\n",
       "      <td>2.500000e+05</td>\n",
       "      <td>9.000000e+01</td>\n",
       "      <td>2.192982e+01</td>\n",
       "      <td>0.000000e+00</td>\n",
       "    </tr>\n",
       "    <tr>\n",
       "      <th>max</th>\n",
       "      <td>3.011750e+05</td>\n",
       "      <td>2.324600e+04</td>\n",
       "      <td>2015-08-01 00:00:00</td>\n",
       "      <td>9.870000e+03</td>\n",
       "      <td>6.506535e+07</td>\n",
       "      <td>2.015000e+03</td>\n",
       "      <td>10.000000</td>\n",
       "      <td>12880.000000</td>\n",
       "      <td>309.000000</td>\n",
       "      <td>6.000000</td>\n",
       "      <td>2014-09-01 00:00:00</td>\n",
       "      <td>2.655000e+07</td>\n",
       "      <td>700000.000000</td>\n",
       "      <td>NaN</td>\n",
       "      <td>1.263620e+07</td>\n",
       "      <td>7.442217e+04</td>\n",
       "      <td>6.528260e+04</td>\n",
       "      <td>3.930921e+05</td>\n",
       "    </tr>\n",
       "    <tr>\n",
       "      <th>std</th>\n",
       "      <td>6.329371e+04</td>\n",
       "      <td>5.290039e+03</td>\n",
       "      <td>NaN</td>\n",
       "      <td>2.649854e+03</td>\n",
       "      <td>1.360381e+07</td>\n",
       "      <td>3.261391e+00</td>\n",
       "      <td>0.294020</td>\n",
       "      <td>442.800640</td>\n",
       "      <td>19.393256</td>\n",
       "      <td>0.468314</td>\n",
       "      <td>NaN</td>\n",
       "      <td>5.645157e+05</td>\n",
       "      <td>111417.190825</td>\n",
       "      <td>NaN</td>\n",
       "      <td>1.508332e+06</td>\n",
       "      <td>3.997017e+02</td>\n",
       "      <td>2.302845e+02</td>\n",
       "      <td>2.384075e+03</td>\n",
       "    </tr>\n",
       "  </tbody>\n",
       "</table>\n",
       "</div>"
      ],
      "text/plain": [
       "       UnderwrittenCoverID      PolicyID               TransactionMonth  \\\n",
       "count         1.000098e+06  1.000098e+06                        1000098   \n",
       "mean          1.048175e+05  7.956682e+03  2015-02-28 10:49:29.147423744   \n",
       "min           1.000000e+00  1.400000e+01            2013-10-01 00:00:00   \n",
       "25%           5.514300e+04  4.500000e+03            2015-01-01 00:00:00   \n",
       "50%           9.408300e+04  7.071000e+03            2015-04-01 00:00:00   \n",
       "75%           1.391900e+05  1.107700e+04            2015-06-01 00:00:00   \n",
       "max           3.011750e+05  2.324600e+04            2015-08-01 00:00:00   \n",
       "std           6.329371e+04  5.290039e+03                            NaN   \n",
       "\n",
       "         PostalCode        mmcode  RegistrationYear      Cylinders  \\\n",
       "count  1.000098e+06  9.995460e+05      1.000098e+06  999546.000000   \n",
       "mean   3.020601e+03  5.487770e+07      2.010225e+03       4.046642   \n",
       "min    1.000000e+00  4.041200e+06      1.987000e+03       0.000000   \n",
       "25%    8.270000e+02  6.005692e+07      2.008000e+03       4.000000   \n",
       "50%    2.000000e+03  6.005842e+07      2.011000e+03       4.000000   \n",
       "75%    4.180000e+03  6.005842e+07      2.013000e+03       4.000000   \n",
       "max    9.870000e+03  6.506535e+07      2.015000e+03      10.000000   \n",
       "std    2.649854e+03  1.360381e+07      3.261391e+00       0.294020   \n",
       "\n",
       "       cubiccapacity      kilowatts  NumberOfDoors  \\\n",
       "count  999546.000000  999546.000000  999546.000000   \n",
       "mean     2466.743258      97.207919       4.019250   \n",
       "min         0.000000       0.000000       0.000000   \n",
       "25%      2237.000000      75.000000       4.000000   \n",
       "50%      2694.000000     111.000000       4.000000   \n",
       "75%      2694.000000     111.000000       4.000000   \n",
       "max     12880.000000     309.000000       6.000000   \n",
       "std       442.800640      19.393256       0.468314   \n",
       "\n",
       "                    VehicleIntroDate  CustomValueEstimate  CapitalOutstanding  \\\n",
       "count                         999546         2.204560e+05       999776.000000   \n",
       "mean   2008-04-20 17:04:04.990425600         2.255311e+05        52605.220796   \n",
       "min              1977-10-01 00:00:00         2.000000e+04           -2.000000   \n",
       "25%              2007-11-01 00:00:00         1.350000e+05            0.000000   \n",
       "50%              2010-10-01 00:00:00         2.200000e+05            0.000000   \n",
       "75%              2012-04-01 00:00:00         2.800000e+05            0.000000   \n",
       "max              2014-09-01 00:00:00         2.655000e+07       700000.000000   \n",
       "std                              NaN         5.645157e+05       111417.190825   \n",
       "\n",
       "       NumberOfVehiclesInFleet    SumInsured  CalculatedPremiumPerTerm  \\\n",
       "count                      0.0  1.000098e+06              1.000098e+06   \n",
       "mean                       NaN  6.041727e+05              1.178757e+02   \n",
       "min                        NaN  1.000000e-02              0.000000e+00   \n",
       "25%                        NaN  5.000000e+03              3.224800e+00   \n",
       "50%                        NaN  7.500000e+03              8.436900e+00   \n",
       "75%                        NaN  2.500000e+05              9.000000e+01   \n",
       "max                        NaN  1.263620e+07              7.442217e+04   \n",
       "std                        NaN  1.508332e+06              3.997017e+02   \n",
       "\n",
       "       TotalPremium   TotalClaims  \n",
       "count  1.000098e+06  1.000098e+06  \n",
       "mean   6.190550e+01  6.486119e+01  \n",
       "min   -7.825768e+02 -1.200241e+04  \n",
       "25%    0.000000e+00  0.000000e+00  \n",
       "50%    2.178333e+00  0.000000e+00  \n",
       "75%    2.192982e+01  0.000000e+00  \n",
       "max    6.528260e+04  3.930921e+05  \n",
       "std    2.302845e+02  2.384075e+03  "
      ]
     },
     "execution_count": 38,
     "metadata": {},
     "output_type": "execute_result"
    }
   ],
   "source": [
    "df.describe()"
   ]
  }
 ],
 "metadata": {
  "kernelspec": {
   "display_name": "venv",
   "language": "python",
   "name": "python3"
  },
  "language_info": {
   "codemirror_mode": {
    "name": "ipython",
    "version": 3
   },
   "file_extension": ".py",
   "mimetype": "text/x-python",
   "name": "python",
   "nbconvert_exporter": "python",
   "pygments_lexer": "ipython3",
   "version": "3.13.3"
  }
 },
 "nbformat": 4,
 "nbformat_minor": 5
}
