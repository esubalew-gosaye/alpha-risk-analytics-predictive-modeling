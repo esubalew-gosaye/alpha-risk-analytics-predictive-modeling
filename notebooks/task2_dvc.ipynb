{
 "cells": [
  {
   "cell_type": "code",
   "execution_count": 3,
   "id": "8b39125a",
   "metadata": {},
   "outputs": [
    {
     "name": "stdout",
     "output_type": "stream",
     "text": [
      "Collecting dvc\n",
      "  Using cached dvc-3.60.1-py3-none-any.whl.metadata (17 kB)\n",
      "Requirement already satisfied: attrs>=22.2.0 in d:\\projects\\tenacademy\\week3\\kaim-week-3\\venv\\lib\\site-packages (from dvc) (25.3.0)\n",
      "Collecting celery (from dvc)\n",
      "  Using cached celery-5.5.3-py3-none-any.whl.metadata (22 kB)\n",
      "Requirement already satisfied: colorama>=0.3.9 in d:\\projects\\tenacademy\\week3\\kaim-week-3\\venv\\lib\\site-packages (from dvc) (0.4.6)\n",
      "Collecting configobj>=5.0.9 (from dvc)\n",
      "  Using cached configobj-5.0.9-py2.py3-none-any.whl.metadata (3.2 kB)\n",
      "Collecting distro>=1.3 (from dvc)\n",
      "  Using cached distro-1.9.0-py3-none-any.whl.metadata (6.8 kB)\n",
      "Collecting dpath<3,>=2.1.0 (from dvc)\n",
      "  Using cached dpath-2.2.0-py3-none-any.whl.metadata (15 kB)\n",
      "Collecting dulwich (from dvc)\n",
      "  Using cached dulwich-0.22.8-cp313-cp313-win_amd64.whl.metadata (5.1 kB)\n",
      "Collecting dvc-data<3.17,>=3.16.2 (from dvc)\n",
      "  Using cached dvc_data-3.16.10-py3-none-any.whl.metadata (5.0 kB)\n",
      "Collecting dvc-http>=2.29.0 (from dvc)\n",
      "  Using cached dvc_http-2.32.0-py3-none-any.whl.metadata (1.3 kB)\n",
      "Collecting dvc-objects (from dvc)\n",
      "  Using cached dvc_objects-5.1.1-py3-none-any.whl.metadata (3.8 kB)\n",
      "Collecting dvc-render<2,>=1.0.1 (from dvc)\n",
      "  Using cached dvc_render-1.0.2-py3-none-any.whl.metadata (5.4 kB)\n",
      "Collecting dvc-studio-client<1,>=0.21 (from dvc)\n",
      "  Using cached dvc_studio_client-0.21.0-py3-none-any.whl.metadata (4.3 kB)\n",
      "Collecting dvc-task<1,>=0.3.0 (from dvc)\n",
      "  Using cached dvc_task-0.40.2-py3-none-any.whl.metadata (10.0 kB)\n",
      "Collecting flatten_dict<1,>=0.4.1 (from dvc)\n",
      "  Using cached flatten_dict-0.4.2-py2.py3-none-any.whl.metadata (9.2 kB)\n",
      "Collecting flufl.lock<9,>=8.1.0 (from dvc)\n",
      "  Using cached flufl_lock-8.2.0-py3-none-any.whl.metadata (3.3 kB)\n",
      "Collecting fsspec>=2024.2.0 (from dvc)\n",
      "  Using cached fsspec-2025.5.1-py3-none-any.whl.metadata (11 kB)\n",
      "Collecting funcy>=1.14 (from dvc)\n",
      "  Using cached funcy-2.0-py2.py3-none-any.whl.metadata (5.9 kB)\n",
      "Collecting grandalf<1,>=0.7 (from dvc)\n",
      "  Using cached grandalf-0.8-py3-none-any.whl.metadata (1.7 kB)\n",
      "Collecting gto<2,>=1.6.0 (from dvc)\n",
      "  Using cached gto-1.7.2-py3-none-any.whl.metadata (4.7 kB)\n",
      "Collecting hydra-core>=1.1 (from dvc)\n",
      "  Using cached hydra_core-1.3.2-py3-none-any.whl.metadata (5.5 kB)\n",
      "Collecting iterative-telemetry>=0.0.7 (from dvc)\n",
      "  Using cached iterative_telemetry-0.0.10-py3-none-any.whl.metadata (4.1 kB)\n",
      "Collecting kombu (from dvc)\n",
      "  Using cached kombu-5.5.4-py3-none-any.whl.metadata (3.5 kB)\n",
      "Collecting networkx>=2.5 (from dvc)\n",
      "  Using cached networkx-3.5-py3-none-any.whl.metadata (6.3 kB)\n",
      "Collecting omegaconf (from dvc)\n",
      "  Using cached omegaconf-2.3.0-py3-none-any.whl.metadata (3.9 kB)\n",
      "Requirement already satisfied: packaging>=19 in d:\\projects\\tenacademy\\week3\\kaim-week-3\\venv\\lib\\site-packages (from dvc) (25.0)\n",
      "Collecting pathspec>=0.10.3 (from dvc)\n",
      "  Using cached pathspec-0.12.1-py3-none-any.whl.metadata (21 kB)\n",
      "Requirement already satisfied: platformdirs<5,>=3.1.1 in d:\\projects\\tenacademy\\week3\\kaim-week-3\\venv\\lib\\site-packages (from dvc) (4.3.8)\n",
      "Requirement already satisfied: psutil>=5.8 in d:\\projects\\tenacademy\\week3\\kaim-week-3\\venv\\lib\\site-packages (from dvc) (7.0.0)\n",
      "Collecting pydot>=1.2.4 (from dvc)\n",
      "  Using cached pydot-4.0.0-py3-none-any.whl.metadata (10 kB)\n",
      "Collecting pygtrie>=2.3.2 (from dvc)\n",
      "  Using cached pygtrie-2.5.0-py3-none-any.whl.metadata (7.5 kB)\n",
      "Requirement already satisfied: pyparsing>=2.4.7 in d:\\projects\\tenacademy\\week3\\kaim-week-3\\venv\\lib\\site-packages (from dvc) (3.2.3)\n",
      "Requirement already satisfied: requests>=2.22 in d:\\projects\\tenacademy\\week3\\kaim-week-3\\venv\\lib\\site-packages (from dvc) (2.32.3)\n",
      "Collecting rich>=12 (from dvc)\n",
      "  Using cached rich-14.0.0-py3-none-any.whl.metadata (18 kB)\n",
      "Collecting ruamel.yaml>=0.17.11 (from dvc)\n",
      "  Using cached ruamel.yaml-0.18.14-py3-none-any.whl.metadata (24 kB)\n",
      "Collecting scmrepo<4,>=3.3.8 (from dvc)\n",
      "  Using cached scmrepo-3.3.11-py3-none-any.whl.metadata (4.8 kB)\n",
      "Collecting shortuuid>=0.5 (from dvc)\n",
      "  Using cached shortuuid-1.0.13-py3-none-any.whl.metadata (5.8 kB)\n",
      "Collecting shtab<2,>=1.3.4 (from dvc)\n",
      "  Using cached shtab-1.7.2-py3-none-any.whl.metadata (7.4 kB)\n",
      "Collecting tabulate>=0.8.7 (from dvc)\n",
      "  Using cached tabulate-0.9.0-py3-none-any.whl.metadata (34 kB)\n",
      "Collecting tomlkit>=0.11.1 (from dvc)\n",
      "  Using cached tomlkit-0.13.3-py3-none-any.whl.metadata (2.8 kB)\n",
      "Requirement already satisfied: tqdm<5,>=4.63.1 in d:\\projects\\tenacademy\\week3\\kaim-week-3\\venv\\lib\\site-packages (from dvc) (4.67.1)\n",
      "Collecting voluptuous>=0.11.7 (from dvc)\n",
      "  Using cached voluptuous-0.15.2-py3-none-any.whl.metadata (20 kB)\n",
      "Collecting zc.lockfile>=1.2.1 (from dvc)\n",
      "  Using cached zc.lockfile-3.0.post1-py3-none-any.whl.metadata (6.2 kB)\n",
      "Collecting dictdiffer>=0.8.1 (from dvc-data<3.17,>=3.16.2->dvc)\n",
      "  Using cached dictdiffer-0.9.0-py2.py3-none-any.whl.metadata (4.8 kB)\n",
      "Collecting diskcache>=5.2.1 (from dvc-data<3.17,>=3.16.2->dvc)\n",
      "  Using cached diskcache-5.6.3-py3-none-any.whl.metadata (20 kB)\n",
      "Collecting sqltrie<1,>=0.11.0 (from dvc-data<3.17,>=3.16.2->dvc)\n",
      "  Using cached sqltrie-0.11.2-py3-none-any.whl.metadata (3.3 kB)\n",
      "Collecting orjson<4,>=3 (from dvc-data<3.17,>=3.16.2->dvc)\n",
      "  Using cached orjson-3.10.18-cp313-cp313-win_amd64.whl.metadata (43 kB)\n",
      "Collecting aiohttp-retry>=2.5.0 (from dvc-http>=2.29.0->dvc)\n",
      "  Using cached aiohttp_retry-2.9.1-py3-none-any.whl.metadata (8.8 kB)\n",
      "Requirement already satisfied: pywin32>=225 in d:\\projects\\tenacademy\\week3\\kaim-week-3\\venv\\lib\\site-packages (from dvc-task<1,>=0.3.0->dvc) (310)\n",
      "Collecting billiard<5.0,>=4.2.1 (from celery->dvc)\n",
      "  Using cached billiard-4.2.1-py3-none-any.whl.metadata (4.4 kB)\n",
      "Collecting vine<6.0,>=5.1.0 (from celery->dvc)\n",
      "  Using cached vine-5.1.0-py3-none-any.whl.metadata (2.7 kB)\n",
      "Requirement already satisfied: click<9.0,>=8.1.2 in d:\\projects\\tenacademy\\week3\\kaim-week-3\\venv\\lib\\site-packages (from celery->dvc) (8.2.1)\n",
      "Collecting click-didyoumean>=0.3.0 (from celery->dvc)\n",
      "  Using cached click_didyoumean-0.3.1-py3-none-any.whl.metadata (3.9 kB)\n",
      "Collecting click-repl>=0.2.0 (from celery->dvc)\n",
      "  Using cached click_repl-0.3.0-py3-none-any.whl.metadata (3.6 kB)\n",
      "Collecting click-plugins>=1.1.1 (from celery->dvc)\n",
      "  Using cached click_plugins-1.1.1-py2.py3-none-any.whl.metadata (6.4 kB)\n",
      "Requirement already satisfied: python-dateutil>=2.8.2 in d:\\projects\\tenacademy\\week3\\kaim-week-3\\venv\\lib\\site-packages (from celery->dvc) (2.9.0.post0)\n",
      "Requirement already satisfied: six<2.0,>=1.12 in d:\\projects\\tenacademy\\week3\\kaim-week-3\\venv\\lib\\site-packages (from flatten_dict<1,>=0.4.1->dvc) (1.17.0)\n",
      "Collecting atpublic (from flufl.lock<9,>=8.1.0->dvc)\n",
      "  Using cached atpublic-6.0.1-py3-none-any.whl.metadata (2.0 kB)\n",
      "Collecting entrypoints (from gto<2,>=1.6.0->dvc)\n",
      "  Using cached entrypoints-0.4-py3-none-any.whl.metadata (2.6 kB)\n",
      "Collecting pydantic!=2.0.0,<3,>=1.9.0 (from gto<2,>=1.6.0->dvc)\n",
      "  Using cached pydantic-2.11.7-py3-none-any.whl.metadata (67 kB)\n",
      "Collecting semver>=2.13.0 (from gto<2,>=1.6.0->dvc)\n",
      "  Using cached semver-3.0.4-py3-none-any.whl.metadata (6.8 kB)\n",
      "Collecting typer>=0.4.1 (from gto<2,>=1.6.0->dvc)\n",
      "  Using cached typer-0.16.0-py3-none-any.whl.metadata (15 kB)\n",
      "Collecting antlr4-python3-runtime==4.9.* (from hydra-core>=1.1->dvc)\n",
      "  Using cached antlr4_python3_runtime-4.9.3-py3-none-any.whl\n",
      "Collecting appdirs (from iterative-telemetry>=0.0.7->dvc)\n",
      "  Using cached appdirs-1.4.4-py2.py3-none-any.whl.metadata (9.0 kB)\n",
      "Collecting filelock (from iterative-telemetry>=0.0.7->dvc)\n",
      "  Using cached filelock-3.18.0-py3-none-any.whl.metadata (2.9 kB)\n",
      "Collecting amqp<6.0.0,>=5.1.1 (from kombu->dvc)\n",
      "  Using cached amqp-5.3.1-py3-none-any.whl.metadata (8.9 kB)\n",
      "Requirement already satisfied: tzdata>=2025.2 in d:\\projects\\tenacademy\\week3\\kaim-week-3\\venv\\lib\\site-packages (from kombu->dvc) (2025.2)\n",
      "Requirement already satisfied: PyYAML>=5.1.0 in d:\\projects\\tenacademy\\week3\\kaim-week-3\\venv\\lib\\site-packages (from omegaconf->dvc) (6.0.2)\n",
      "Requirement already satisfied: charset-normalizer<4,>=2 in d:\\projects\\tenacademy\\week3\\kaim-week-3\\venv\\lib\\site-packages (from requests>=2.22->dvc) (3.4.2)\n",
      "Requirement already satisfied: idna<4,>=2.5 in d:\\projects\\tenacademy\\week3\\kaim-week-3\\venv\\lib\\site-packages (from requests>=2.22->dvc) (3.10)\n",
      "Requirement already satisfied: urllib3<3,>=1.21.1 in d:\\projects\\tenacademy\\week3\\kaim-week-3\\venv\\lib\\site-packages (from requests>=2.22->dvc) (2.4.0)\n",
      "Requirement already satisfied: certifi>=2017.4.17 in d:\\projects\\tenacademy\\week3\\kaim-week-3\\venv\\lib\\site-packages (from requests>=2.22->dvc) (2025.4.26)\n",
      "Collecting markdown-it-py>=2.2.0 (from rich>=12->dvc)\n",
      "  Using cached markdown_it_py-3.0.0-py3-none-any.whl.metadata (6.9 kB)\n",
      "Requirement already satisfied: pygments<3.0.0,>=2.13.0 in d:\\projects\\tenacademy\\week3\\kaim-week-3\\venv\\lib\\site-packages (from rich>=12->dvc) (2.19.1)\n",
      "Collecting ruamel.yaml.clib>=0.2.7 (from ruamel.yaml>=0.17.11->dvc)\n",
      "  Using cached ruamel.yaml.clib-0.2.12-cp313-cp313-win_amd64.whl.metadata (2.8 kB)\n",
      "Collecting gitpython>3 (from scmrepo<4,>=3.3.8->dvc)\n",
      "  Using cached GitPython-3.1.44-py3-none-any.whl.metadata (13 kB)\n",
      "Collecting pygit2>=1.14.0 (from scmrepo<4,>=3.3.8->dvc)\n",
      "  Using cached pygit2-1.18.0-cp313-cp313-win_amd64.whl.metadata (3.7 kB)\n",
      "Collecting asyncssh<3,>=2.13.1 (from scmrepo<4,>=3.3.8->dvc)\n",
      "  Using cached asyncssh-2.21.0-py3-none-any.whl.metadata (9.9 kB)\n",
      "Requirement already satisfied: setuptools in d:\\projects\\tenacademy\\week3\\kaim-week-3\\venv\\lib\\site-packages (from zc.lockfile>=1.2.1->dvc) (80.9.0)\n",
      "Collecting aiohttp (from aiohttp-retry>=2.5.0->dvc-http>=2.29.0->dvc)\n",
      "  Downloading aiohttp-3.12.13-cp313-cp313-win_amd64.whl.metadata (7.9 kB)\n",
      "Collecting cryptography>=39.0 (from asyncssh<3,>=2.13.1->scmrepo<4,>=3.3.8->dvc)\n",
      "  Using cached cryptography-45.0.4-cp311-abi3-win_amd64.whl.metadata (5.7 kB)\n",
      "Requirement already satisfied: typing_extensions>=4.0.0 in d:\\projects\\tenacademy\\week3\\kaim-week-3\\venv\\lib\\site-packages (from asyncssh<3,>=2.13.1->scmrepo<4,>=3.3.8->dvc) (4.13.2)\n",
      "Requirement already satisfied: prompt-toolkit>=3.0.36 in d:\\projects\\tenacademy\\week3\\kaim-week-3\\venv\\lib\\site-packages (from click-repl>=0.2.0->celery->dvc) (3.0.51)\n",
      "Collecting gitdb<5,>=4.0.1 (from gitpython>3->scmrepo<4,>=3.3.8->dvc)\n",
      "  Using cached gitdb-4.0.12-py3-none-any.whl.metadata (1.2 kB)\n",
      "Collecting mdurl~=0.1 (from markdown-it-py>=2.2.0->rich>=12->dvc)\n",
      "  Using cached mdurl-0.1.2-py3-none-any.whl.metadata (1.6 kB)\n",
      "Collecting annotated-types>=0.6.0 (from pydantic!=2.0.0,<3,>=1.9.0->gto<2,>=1.6.0->dvc)\n",
      "  Using cached annotated_types-0.7.0-py3-none-any.whl.metadata (15 kB)\n",
      "Collecting pydantic-core==2.33.2 (from pydantic!=2.0.0,<3,>=1.9.0->gto<2,>=1.6.0->dvc)\n",
      "  Using cached pydantic_core-2.33.2-cp313-cp313-win_amd64.whl.metadata (6.9 kB)\n",
      "Collecting typing-inspection>=0.4.0 (from pydantic!=2.0.0,<3,>=1.9.0->gto<2,>=1.6.0->dvc)\n",
      "  Using cached typing_inspection-0.4.1-py3-none-any.whl.metadata (2.6 kB)\n",
      "Requirement already satisfied: cffi>=1.17.0 in d:\\projects\\tenacademy\\week3\\kaim-week-3\\venv\\lib\\site-packages (from pygit2>=1.14.0->scmrepo<4,>=3.3.8->dvc) (1.17.1)\n",
      "Collecting shellingham>=1.3.0 (from typer>=0.4.1->gto<2,>=1.6.0->dvc)\n",
      "  Using cached shellingham-1.5.4-py2.py3-none-any.whl.metadata (3.5 kB)\n",
      "Collecting aiohappyeyeballs>=2.5.0 (from aiohttp->aiohttp-retry>=2.5.0->dvc-http>=2.29.0->dvc)\n",
      "  Using cached aiohappyeyeballs-2.6.1-py3-none-any.whl.metadata (5.9 kB)\n",
      "Collecting aiosignal>=1.1.2 (from aiohttp->aiohttp-retry>=2.5.0->dvc-http>=2.29.0->dvc)\n",
      "  Using cached aiosignal-1.3.2-py2.py3-none-any.whl.metadata (3.8 kB)\n",
      "Collecting frozenlist>=1.1.1 (from aiohttp->aiohttp-retry>=2.5.0->dvc-http>=2.29.0->dvc)\n",
      "  Using cached frozenlist-1.7.0-cp313-cp313-win_amd64.whl.metadata (19 kB)\n",
      "Collecting multidict<7.0,>=4.5 (from aiohttp->aiohttp-retry>=2.5.0->dvc-http>=2.29.0->dvc)\n",
      "  Using cached multidict-6.4.4-cp313-cp313-win_amd64.whl.metadata (5.5 kB)\n",
      "Collecting propcache>=0.2.0 (from aiohttp->aiohttp-retry>=2.5.0->dvc-http>=2.29.0->dvc)\n",
      "  Using cached propcache-0.3.2-cp313-cp313-win_amd64.whl.metadata (12 kB)\n",
      "Collecting yarl<2.0,>=1.17.0 (from aiohttp->aiohttp-retry>=2.5.0->dvc-http>=2.29.0->dvc)\n",
      "  Using cached yarl-1.20.1-cp313-cp313-win_amd64.whl.metadata (76 kB)\n",
      "Requirement already satisfied: pycparser in d:\\projects\\tenacademy\\week3\\kaim-week-3\\venv\\lib\\site-packages (from cffi>=1.17.0->pygit2>=1.14.0->scmrepo<4,>=3.3.8->dvc) (2.22)\n",
      "Collecting smmap<6,>=3.0.1 (from gitdb<5,>=4.0.1->gitpython>3->scmrepo<4,>=3.3.8->dvc)\n",
      "  Using cached smmap-5.0.2-py3-none-any.whl.metadata (4.3 kB)\n",
      "Requirement already satisfied: wcwidth in d:\\projects\\tenacademy\\week3\\kaim-week-3\\venv\\lib\\site-packages (from prompt-toolkit>=3.0.36->click-repl>=0.2.0->celery->dvc) (0.2.13)\n",
      "Using cached dvc-3.60.1-py3-none-any.whl (458 kB)\n",
      "Using cached configobj-5.0.9-py2.py3-none-any.whl (35 kB)\n",
      "Using cached distro-1.9.0-py3-none-any.whl (20 kB)\n",
      "Using cached dpath-2.2.0-py3-none-any.whl (17 kB)\n",
      "Using cached dvc_data-3.16.10-py3-none-any.whl (77 kB)\n",
      "Using cached dvc_http-2.32.0-py3-none-any.whl (12 kB)\n",
      "Using cached dvc_objects-5.1.1-py3-none-any.whl (33 kB)\n",
      "Using cached dvc_render-1.0.2-py3-none-any.whl (22 kB)\n",
      "Using cached dvc_studio_client-0.21.0-py3-none-any.whl (16 kB)\n",
      "Using cached dvc_task-0.40.2-py3-none-any.whl (21 kB)\n",
      "Using cached celery-5.5.3-py3-none-any.whl (438 kB)\n",
      "Using cached flatten_dict-0.4.2-py2.py3-none-any.whl (9.7 kB)\n",
      "Using cached flufl_lock-8.2.0-py3-none-any.whl (11 kB)\n",
      "Using cached fsspec-2025.5.1-py3-none-any.whl (199 kB)\n",
      "Using cached funcy-2.0-py2.py3-none-any.whl (30 kB)\n",
      "Using cached grandalf-0.8-py3-none-any.whl (41 kB)\n",
      "Using cached gto-1.7.2-py3-none-any.whl (45 kB)\n",
      "Using cached hydra_core-1.3.2-py3-none-any.whl (154 kB)\n",
      "Using cached iterative_telemetry-0.0.10-py3-none-any.whl (10 kB)\n",
      "Using cached kombu-5.5.4-py3-none-any.whl (210 kB)\n",
      "Using cached vine-5.1.0-py3-none-any.whl (9.6 kB)\n",
      "Using cached networkx-3.5-py3-none-any.whl (2.0 MB)\n",
      "Using cached omegaconf-2.3.0-py3-none-any.whl (79 kB)\n",
      "Using cached pathspec-0.12.1-py3-none-any.whl (31 kB)\n",
      "Using cached pydot-4.0.0-py3-none-any.whl (37 kB)\n",
      "Using cached pygtrie-2.5.0-py3-none-any.whl (25 kB)\n",
      "Using cached rich-14.0.0-py3-none-any.whl (243 kB)\n",
      "Using cached ruamel.yaml-0.18.14-py3-none-any.whl (118 kB)\n",
      "Using cached scmrepo-3.3.11-py3-none-any.whl (73 kB)\n",
      "Using cached dulwich-0.22.8-cp313-cp313-win_amd64.whl (608 kB)\n",
      "Using cached shortuuid-1.0.13-py3-none-any.whl (10 kB)\n",
      "Using cached shtab-1.7.2-py3-none-any.whl (14 kB)\n",
      "Using cached tabulate-0.9.0-py3-none-any.whl (35 kB)\n",
      "Using cached tomlkit-0.13.3-py3-none-any.whl (38 kB)\n",
      "Using cached voluptuous-0.15.2-py3-none-any.whl (31 kB)\n",
      "Using cached zc.lockfile-3.0.post1-py3-none-any.whl (9.8 kB)\n",
      "Using cached aiohttp_retry-2.9.1-py3-none-any.whl (10.0 kB)\n",
      "Using cached amqp-5.3.1-py3-none-any.whl (50 kB)\n",
      "Using cached asyncssh-2.21.0-py3-none-any.whl (374 kB)\n",
      "Using cached billiard-4.2.1-py3-none-any.whl (86 kB)\n",
      "Using cached click_didyoumean-0.3.1-py3-none-any.whl (3.6 kB)\n",
      "Using cached click_plugins-1.1.1-py2.py3-none-any.whl (7.5 kB)\n",
      "Using cached click_repl-0.3.0-py3-none-any.whl (10 kB)\n",
      "Using cached dictdiffer-0.9.0-py2.py3-none-any.whl (16 kB)\n",
      "Using cached diskcache-5.6.3-py3-none-any.whl (45 kB)\n",
      "Using cached GitPython-3.1.44-py3-none-any.whl (207 kB)\n",
      "Using cached markdown_it_py-3.0.0-py3-none-any.whl (87 kB)\n",
      "Using cached orjson-3.10.18-cp313-cp313-win_amd64.whl (134 kB)\n",
      "Using cached pydantic-2.11.7-py3-none-any.whl (444 kB)\n",
      "Using cached pydantic_core-2.33.2-cp313-cp313-win_amd64.whl (2.0 MB)\n",
      "Using cached pygit2-1.18.0-cp313-cp313-win_amd64.whl (1.3 MB)\n",
      "Using cached ruamel.yaml.clib-0.2.12-cp313-cp313-win_amd64.whl (115 kB)\n",
      "Using cached semver-3.0.4-py3-none-any.whl (17 kB)\n",
      "Using cached sqltrie-0.11.2-py3-none-any.whl (17 kB)\n",
      "Using cached typer-0.16.0-py3-none-any.whl (46 kB)\n",
      "Using cached appdirs-1.4.4-py2.py3-none-any.whl (9.6 kB)\n",
      "Using cached atpublic-6.0.1-py3-none-any.whl (6.4 kB)\n",
      "Using cached entrypoints-0.4-py3-none-any.whl (5.3 kB)\n",
      "Using cached filelock-3.18.0-py3-none-any.whl (16 kB)\n",
      "Downloading aiohttp-3.12.13-cp313-cp313-win_amd64.whl (446 kB)\n",
      "Using cached annotated_types-0.7.0-py3-none-any.whl (13 kB)\n",
      "Using cached cryptography-45.0.4-cp311-abi3-win_amd64.whl (3.4 MB)\n",
      "Using cached gitdb-4.0.12-py3-none-any.whl (62 kB)\n",
      "Using cached mdurl-0.1.2-py3-none-any.whl (10.0 kB)\n",
      "Using cached shellingham-1.5.4-py2.py3-none-any.whl (9.8 kB)\n",
      "Using cached typing_inspection-0.4.1-py3-none-any.whl (14 kB)\n",
      "Using cached aiohappyeyeballs-2.6.1-py3-none-any.whl (15 kB)\n",
      "Using cached aiosignal-1.3.2-py2.py3-none-any.whl (7.6 kB)\n",
      "Using cached frozenlist-1.7.0-cp313-cp313-win_amd64.whl (43 kB)\n",
      "Using cached multidict-6.4.4-cp313-cp313-win_amd64.whl (38 kB)\n",
      "Using cached propcache-0.3.2-cp313-cp313-win_amd64.whl (40 kB)\n",
      "Using cached smmap-5.0.2-py3-none-any.whl (24 kB)\n",
      "Using cached yarl-1.20.1-cp313-cp313-win_amd64.whl (86 kB)\n",
      "Installing collected packages: pygtrie, funcy, dictdiffer, appdirs, antlr4-python3-runtime, zc.lockfile, voluptuous, vine, typing-inspection, tomlkit, tabulate, smmap, shtab, shortuuid, shellingham, semver, ruamel.yaml.clib, pydot, pydantic-core, propcache, pathspec, orjson, omegaconf, networkx, multidict, mdurl, grandalf, fsspec, frozenlist, flatten_dict, filelock, entrypoints, dvc-render, dulwich, dpath, distro, diskcache, configobj, billiard, atpublic, annotated-types, aiohappyeyeballs, yarl, sqltrie, ruamel.yaml, pygit2, pydantic, markdown-it-py, iterative-telemetry, hydra-core, gitdb, flufl.lock, dvc-studio-client, dvc-objects, cryptography, click-repl, click-plugins, click-didyoumean, amqp, aiosignal, rich, kombu, gitpython, dvc-data, asyncssh, aiohttp, typer, celery, aiohttp-retry, scmrepo, dvc-task, dvc-http, gto, dvc\n",
      "Successfully installed aiohappyeyeballs-2.6.1 aiohttp-3.12.13 aiohttp-retry-2.9.1 aiosignal-1.3.2 amqp-5.3.1 annotated-types-0.7.0 antlr4-python3-runtime-4.9.3 appdirs-1.4.4 asyncssh-2.21.0 atpublic-6.0.1 billiard-4.2.1 celery-5.5.3 click-didyoumean-0.3.1 click-plugins-1.1.1 click-repl-0.3.0 configobj-5.0.9 cryptography-45.0.4 dictdiffer-0.9.0 diskcache-5.6.3 distro-1.9.0 dpath-2.2.0 dulwich-0.22.8 dvc-3.60.1 dvc-data-3.16.10 dvc-http-2.32.0 dvc-objects-5.1.1 dvc-render-1.0.2 dvc-studio-client-0.21.0 dvc-task-0.40.2 entrypoints-0.4 filelock-3.18.0 flatten_dict-0.4.2 flufl.lock-8.2.0 frozenlist-1.7.0 fsspec-2025.5.1 funcy-2.0 gitdb-4.0.12 gitpython-3.1.44 grandalf-0.8 gto-1.7.2 hydra-core-1.3.2 iterative-telemetry-0.0.10 kombu-5.5.4 markdown-it-py-3.0.0 mdurl-0.1.2 multidict-6.4.4 networkx-3.5 omegaconf-2.3.0 orjson-3.10.18 pathspec-0.12.1 propcache-0.3.2 pydantic-2.11.7 pydantic-core-2.33.2 pydot-4.0.0 pygit2-1.18.0 pygtrie-2.5.0 rich-14.0.0 ruamel.yaml-0.18.14 ruamel.yaml.clib-0.2.12 scmrepo-3.3.11 semver-3.0.4 shellingham-1.5.4 shortuuid-1.0.13 shtab-1.7.2 smmap-5.0.2 sqltrie-0.11.2 tabulate-0.9.0 tomlkit-0.13.3 typer-0.16.0 typing-inspection-0.4.1 vine-5.1.0 voluptuous-0.15.2 yarl-1.20.1 zc.lockfile-3.0.post1\n",
      "Note: you may need to restart the kernel to use updated packages.\n"
     ]
    },
    {
     "name": "stderr",
     "output_type": "stream",
     "text": [
      "\n",
      "[notice] A new release of pip is available: 25.0.1 -> 25.1.1\n",
      "[notice] To update, run: python.exe -m pip install --upgrade pip\n"
     ]
    }
   ],
   "source": [
    "%pip install dvc\n",
    "\n",
    "from dvc import dvc"
   ]
  },
  {
   "cell_type": "code",
   "execution_count": 11,
   "id": "b1230e9b",
   "metadata": {},
   "outputs": [],
   "source": [
    "import os\n",
    "os.chdir('../')  # Go up one level to the root folder"
   ]
  },
  {
   "cell_type": "markdown",
   "id": "aba1154b",
   "metadata": {},
   "source": [
    "Initialize DVC (I have already initalized it in cmd)"
   ]
  },
  {
   "cell_type": "code",
   "execution_count": null,
   "id": "b448b360",
   "metadata": {},
   "outputs": [
    {
     "name": "stdout",
     "output_type": "stream",
     "text": [
      "Initialized DVC repository.\n",
      "\n",
      "+---------------------------------------------------------------------+\n",
      "|                                                                     |\n",
      "|        DVC has enabled anonymous aggregate usage analytics.         |\n",
      "|     Read the analytics documentation (and how to opt-out) here:     |\n",
      "|             <https://dvc.org/doc/user-guide/analytics>              |\n",
      "|                                                                     |\n",
      "+---------------------------------------------------------------------+\n",
      "\n",
      "What's next?\n",
      "------------\n",
      "- Check out the documentation: <https://dvc.org/doc>\n",
      "- Get help and share ideas: <https://dvc.org/chat>\n",
      "- Star us on GitHub: <https://github.com/iterative/dvc>\n"
     ]
    }
   ],
   "source": [
    "# Ensure DVC is installed and initialize DVC \n",
    "!dvc init --no-scm"
   ]
  },
  {
   "cell_type": "markdown",
   "id": "f8e9f0a7",
   "metadata": {},
   "source": [
    "Check your remote storage configuration"
   ]
  },
  {
   "cell_type": "code",
   "execution_count": 12,
   "id": "0334f2cf",
   "metadata": {},
   "outputs": [
    {
     "name": "stdout",
     "output_type": "stream",
     "text": [
      "localstorage    D:\\projects\\TenAcademy\\week3\\dvc-localstorage   (default)\n"
     ]
    }
   ],
   "source": [
    "!dvc remote list"
   ]
  },
  {
   "cell_type": "markdown",
   "id": "dc7420c3",
   "metadata": {},
   "source": [
    "Let's try to add another remote storage. Since I have done everything on cmd. I'm adding this for tracing purpose."
   ]
  },
  {
   "cell_type": "markdown",
   "id": "9094bd11",
   "metadata": {},
   "source": [
    " Set Up Local Remote Storage"
   ]
  },
  {
   "cell_type": "code",
   "execution_count": 17,
   "id": "7770d0e0",
   "metadata": {},
   "outputs": [
    {
     "name": "stdout",
     "output_type": "stream",
     "text": [
      "Setting 'localremote' as a default remote.\n"
     ]
    }
   ],
   "source": [
    "!dvc remote add -d localremote D:/projects/TenAcademy/week3/dvc-localstorage2"
   ]
  },
  {
   "cell_type": "markdown",
   "id": "4cc21d26",
   "metadata": {},
   "source": [
    "Check the remote storage list"
   ]
  },
  {
   "cell_type": "code",
   "execution_count": 19,
   "id": "5aefa85d",
   "metadata": {},
   "outputs": [
    {
     "name": "stdout",
     "output_type": "stream",
     "text": [
      "localstorage    D:\\projects\\TenAcademy\\week3\\dvc-localstorage\n",
      "localremote     D:/projects/TenAcademy/week3/dvc-localstorage2  (default)\n"
     ]
    }
   ],
   "source": [
    "!dvc remote list"
   ]
  },
  {
   "cell_type": "markdown",
   "id": "db7b4d2c",
   "metadata": {},
   "source": [
    "Track Data"
   ]
  },
  {
   "cell_type": "code",
   "execution_count": 20,
   "id": "c3e14bee",
   "metadata": {},
   "outputs": [
    {
     "name": "stderr",
     "output_type": "stream",
     "text": [
      "⠋ Checking graph"
     ]
    },
    {
     "name": "stdout",
     "output_type": "stream",
     "text": [
      "\n",
      "To track the changes with git, run:"
     ]
    },
    {
     "name": "stderr",
     "output_type": "stream",
     "text": [
      "\n"
     ]
    },
    {
     "name": "stdout",
     "output_type": "stream",
     "text": [
      "\n"
     ]
    },
    {
     "name": "stderr",
     "output_type": "stream",
     "text": [
      "\n"
     ]
    },
    {
     "name": "stdout",
     "output_type": "stream",
     "text": [
      "\n",
      "\tgit add 'data\\raw\\MachineLearningRating_v3.txt.dvc'\n",
      "\n",
      "To enable auto staging, run:\n",
      "\n",
      "\tdvc config core.autostage true\n"
     ]
    }
   ],
   "source": [
    "!dvc add data/raw/MachineLearningRating_v3.txt\n"
   ]
  },
  {
   "cell_type": "markdown",
   "id": "b3ce4ded",
   "metadata": {},
   "source": [
    "Push Data to Remote Storage"
   ]
  },
  {
   "cell_type": "code",
   "execution_count": 22,
   "id": "164dd1ea",
   "metadata": {},
   "outputs": [
    {
     "name": "stdout",
     "output_type": "stream",
     "text": [
      "2 files pushed\n"
     ]
    }
   ],
   "source": [
    "!dvc push\n"
   ]
  },
  {
   "cell_type": "markdown",
   "id": "dc64b073",
   "metadata": {},
   "source": [
    "Pull the specific data file"
   ]
  },
  {
   "cell_type": "code",
   "execution_count": 23,
   "id": "59c6a6b3",
   "metadata": {},
   "outputs": [
    {
     "name": "stdout",
     "output_type": "stream",
     "text": [
      "Everything is up to date.\n"
     ]
    }
   ],
   "source": [
    "!dvc pull data/processed/cleaned_dataset.csv\n"
   ]
  },
  {
   "cell_type": "markdown",
   "id": "375be2ce",
   "metadata": {},
   "source": [
    "List files tracked by DVC"
   ]
  },
  {
   "cell_type": "code",
   "execution_count": 24,
   "id": "ab405604",
   "metadata": {},
   "outputs": [
    {
     "name": "stdout",
     "output_type": "stream",
     "text": [
      ".dvcignore\n",
      ".gitattributes\n",
      ".github\n",
      ".gitignore\n",
      ".pytest_cache\n",
      "README.md\n",
      "data\n",
      "notebooks\n",
      "requirements.txt\n",
      "scripts\n",
      "src\n",
      "tests\n",
      "venv\n"
     ]
    }
   ],
   "source": [
    "!dvc list ."
   ]
  },
  {
   "cell_type": "markdown",
   "id": "78d61b09",
   "metadata": {},
   "source": [
    "We have successfully tracked data using DVC. "
   ]
  }
 ],
 "metadata": {
  "kernelspec": {
   "display_name": "venv",
   "language": "python",
   "name": "python3"
  },
  "language_info": {
   "codemirror_mode": {
    "name": "ipython",
    "version": 3
   },
   "file_extension": ".py",
   "mimetype": "text/x-python",
   "name": "python",
   "nbconvert_exporter": "python",
   "pygments_lexer": "ipython3",
   "version": "3.13.3"
  }
 },
 "nbformat": 4,
 "nbformat_minor": 5
}
