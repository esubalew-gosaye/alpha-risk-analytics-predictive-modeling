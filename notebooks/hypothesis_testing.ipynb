{
 "cells": [
  {
   "cell_type": "code",
   "execution_count": 1,
   "id": "b6584a5b",
   "metadata": {},
   "outputs": [],
   "source": [
    "# Import standard libraries\n",
    "import pandas as pd\n",
    "import numpy as np\n",
    "import sys\n",
    "\n",
    "# Visualization libraries\n",
    "import matplotlib.pyplot as plt\n",
    "import seaborn as sns\n",
    "import plotly.express as px\n",
    "\n",
    "\n",
    "sys.path.append('../src') \n",
    "\n",
    "from utils.data_loader import load_data\n",
    "\n"
   ]
  },
  {
   "cell_type": "code",
   "execution_count": 6,
   "id": "1e77a87c",
   "metadata": {},
   "outputs": [
    {
     "name": "stdout",
     "output_type": "stream",
     "text": [
      "Data loaded successfully from ../data/processed/cleaned_dataset.csv\n"
     ]
    }
   ],
   "source": [
    "df=load_data(\"../data/processed/cleaned_dataset.csv\",delimiter=\",\")"
   ]
  },
  {
   "cell_type": "code",
   "execution_count": 7,
   "id": "bed7bda6",
   "metadata": {},
   "outputs": [
    {
     "name": "stdout",
     "output_type": "stream",
     "text": [
      "<class 'pandas.core.frame.DataFrame'>\n",
      "RangeIndex: 999472 entries, 0 to 999471\n",
      "Data columns (total 50 columns):\n",
      " #   Column                    Non-Null Count   Dtype  \n",
      "---  ------                    --------------   -----  \n",
      " 0   UnderwrittenCoverID       999472 non-null  int64  \n",
      " 1   PolicyID                  999472 non-null  int64  \n",
      " 2   TransactionMonth          999472 non-null  object \n",
      " 3   IsVATRegistered           999472 non-null  bool   \n",
      " 4   Citizenship               999472 non-null  object \n",
      " 5   LegalType                 999472 non-null  object \n",
      " 6   Title                     999472 non-null  object \n",
      " 7   Language                  999472 non-null  object \n",
      " 8   Bank                      999472 non-null  object \n",
      " 9   AccountType               999472 non-null  object \n",
      " 10  MaritalStatus             999472 non-null  object \n",
      " 11  Gender                    999472 non-null  object \n",
      " 12  Country                   999472 non-null  object \n",
      " 13  Province                  999472 non-null  object \n",
      " 14  PostalCode                999472 non-null  int64  \n",
      " 15  MainCrestaZone            999472 non-null  object \n",
      " 16  SubCrestaZone             999472 non-null  object \n",
      " 17  ItemType                  999472 non-null  object \n",
      " 18  mmcode                    999472 non-null  float64\n",
      " 19  VehicleType               999472 non-null  object \n",
      " 20  RegistrationYear          999472 non-null  int64  \n",
      " 21  make                      999472 non-null  object \n",
      " 22  Model                     999472 non-null  object \n",
      " 23  Cylinders                 999472 non-null  float64\n",
      " 24  cubiccapacity             999472 non-null  float64\n",
      " 25  kilowatts                 999472 non-null  float64\n",
      " 26  bodytype                  999472 non-null  object \n",
      " 27  NumberOfDoors             999472 non-null  float64\n",
      " 28  VehicleIntroDate          999472 non-null  object \n",
      " 29  AlarmImmobiliser          999472 non-null  bool   \n",
      " 30  TrackingDevice            999472 non-null  bool   \n",
      " 31  CapitalOutstanding        999472 non-null  float64\n",
      " 32  NewVehicle                999472 non-null  object \n",
      " 33  WrittenOff                999472 non-null  bool   \n",
      " 34  Rebuilt                   999472 non-null  bool   \n",
      " 35  Converted                 999472 non-null  bool   \n",
      " 36  SumInsured                999472 non-null  float64\n",
      " 37  TermFrequency             999472 non-null  object \n",
      " 38  CalculatedPremiumPerTerm  999472 non-null  float64\n",
      " 39  ExcessSelected            999472 non-null  object \n",
      " 40  CoverCategory             999472 non-null  object \n",
      " 41  CoverType                 999472 non-null  object \n",
      " 42  CoverGroup                999472 non-null  object \n",
      " 43  Section                   999472 non-null  object \n",
      " 44  Product                   999472 non-null  object \n",
      " 45  StatutoryClass            999472 non-null  object \n",
      " 46  StatutoryRiskType         999472 non-null  object \n",
      " 47  TotalPremium              999472 non-null  float64\n",
      " 48  TotalClaims               999472 non-null  float64\n",
      " 49  LossRatio                 618392 non-null  float64\n",
      "dtypes: bool(6), float64(11), int64(4), object(29)\n",
      "memory usage: 341.2+ MB\n",
      "None\n"
     ]
    }
   ],
   "source": [
    "print(df.info())"
   ]
  },
  {
   "cell_type": "markdown",
   "id": "a1e21094",
   "metadata": {},
   "source": [
    " Claim Frequency\n",
    "Proportion of policies that had at least one claim."
   ]
  },
  {
   "cell_type": "code",
   "execution_count": 8,
   "id": "6f8f37e5",
   "metadata": {},
   "outputs": [
    {
     "name": "stdout",
     "output_type": "stream",
     "text": [
      "Province\n",
      "Gauteng          0.003359\n",
      "KwaZulu-Natal    0.002845\n",
      "Limpopo          0.002698\n",
      "North West       0.002436\n",
      "Mpumalanga       0.002432\n",
      "Western Cape     0.002094\n",
      "Eastern Cape     0.001648\n",
      "Free State       0.001358\n",
      "Northern Cape    0.001254\n",
      "Name: HadClaim, dtype: float64\n"
     ]
    }
   ],
   "source": [
    "# # Create binary indicator for having at least one claim\n",
    "df['HadClaim'] = df['TotalClaims'] > 0\n",
    "\n",
    "# Example: Claim Frequency by Province\n",
    "claim_frequency = df.groupby('Province')['HadClaim'].mean().sort_values(ascending=False)\n",
    "\n",
    "print(claim_frequency)\n"
   ]
  },
  {
   "cell_type": "markdown",
   "id": "2043b1ba",
   "metadata": {},
   "source": [
    " Claim Severity\n",
    "Average claim amount given that a claim occurred."
   ]
  },
  {
   "cell_type": "code",
   "execution_count": 10,
   "id": "66213b80",
   "metadata": {},
   "outputs": [
    {
     "data": {
      "application/vnd.microsoft.datawrangler.viewer.v0+json": {
       "columns": [
        {
         "name": "Province",
         "rawType": "object",
         "type": "string"
        },
        {
         "name": "TotalClaims",
         "rawType": "float64",
         "type": "float"
        }
       ],
       "ref": "75e2a3bb-2c27-43b8-b5b8-a5f5110fe7f0",
       "rows": [
        [
         "Eastern Cape",
         "27128.533277192982"
        ],
        [
         "Free State",
         "32265.661084529474"
        ],
        [
         "Gauteng",
         "22243.878395705604"
        ],
        [
         "KwaZulu-Natal",
         "29609.487472667177"
        ],
        [
         "Limpopo",
         "15171.294186959934"
        ],
        [
         "Mpumalanga",
         "15979.55342105263"
        ],
        [
         "North West",
         "16963.467034635298"
        ],
        [
         "Northern Cape",
         "11186.313596491224"
        ],
        [
         "Western Cape",
         "27559.603587891303"
        ]
       ],
       "shape": {
        "columns": 1,
        "rows": 9
       }
      },
      "text/plain": [
       "Province\n",
       "Eastern Cape     27128.533277\n",
       "Free State       32265.661085\n",
       "Gauteng          22243.878396\n",
       "KwaZulu-Natal    29609.487473\n",
       "Limpopo          15171.294187\n",
       "Mpumalanga       15979.553421\n",
       "North West       16963.467035\n",
       "Northern Cape    11186.313596\n",
       "Western Cape     27559.603588\n",
       "Name: TotalClaims, dtype: float64"
      ]
     },
     "execution_count": 10,
     "metadata": {},
     "output_type": "execute_result"
    }
   ],
   "source": [
    "claim_severity = df[df['TotalClaims'] > 0].groupby('Province')['TotalClaims'].mean()\n",
    "claim_severity"
   ]
  },
  {
   "cell_type": "markdown",
   "id": "05ef1d37",
   "metadata": {},
   "source": [
    "Margin\n",
    "Profit per policy = TotalPremium - TotalClaims"
   ]
  },
  {
   "cell_type": "code",
   "execution_count": 11,
   "id": "4947b22d",
   "metadata": {},
   "outputs": [
    {
     "data": {
      "application/vnd.microsoft.datawrangler.viewer.v0+json": {
       "columns": [
        {
         "name": "index",
         "rawType": "int64",
         "type": "integer"
        },
        {
         "name": "Margin",
         "rawType": "float64",
         "type": "float"
        }
       ],
       "ref": "4db3ad81-a0c9-46b5-841e-550f59383709",
       "rows": [
        [
         "0",
         "21.929824561403"
        ],
        [
         "1",
         "21.929824561403"
        ],
        [
         "2",
         "0.0"
        ],
        [
         "3",
         "512.848070175439"
        ],
        [
         "4",
         "0.0"
        ],
        [
         "5",
         "3.256434634974"
        ],
        [
         "6",
         "50.474736842105"
        ],
        [
         "7",
         "35.332315789474"
        ],
        [
         "8",
         "0.0"
        ],
        [
         "9",
         "1.00947368421"
        ],
        [
         "10",
         "1.00947368421"
        ],
        [
         "11",
         "0.0"
        ],
        [
         "12",
         "21.929824561403"
        ],
        [
         "13",
         "458.051612903225"
        ],
        [
         "14",
         "709.98"
        ],
        [
         "15",
         "709.98"
        ],
        [
         "16",
         "526.75935483871"
        ],
        [
         "17",
         "58.010789473684"
        ],
        [
         "18",
         "0.119561403508"
        ],
        [
         "19",
         "0.597807017543"
        ],
        [
         "20",
         "0.597807017543"
        ],
        [
         "21",
         "0.597807017543"
        ],
        [
         "22",
         "0.597807017543"
        ],
        [
         "23",
         "0.597807017543"
        ],
        [
         "24",
         "1.038421052631"
        ],
        [
         "25",
         "1.038421052631"
        ],
        [
         "26",
         "1.038421052631"
        ],
        [
         "27",
         "1.038421052631"
        ],
        [
         "28",
         "1.038421052631"
        ],
        [
         "29",
         "2.076842105263"
        ],
        [
         "30",
         "3.115263157894"
        ],
        [
         "31",
         "3.115263157894"
        ],
        [
         "32",
         "3.115263157894"
        ],
        [
         "33",
         "3.115263157894"
        ],
        [
         "34",
         "3.115263157894"
        ],
        [
         "35",
         "93.055175438596"
        ],
        [
         "36",
         "93.055175438596"
        ],
        [
         "37",
         "93.055175438596"
        ],
        [
         "38",
         "93.055175438596"
        ],
        [
         "39",
         "0.770441426146"
        ],
        [
         "40",
         "1.038421052631"
        ],
        [
         "41",
         "1.038421052631"
        ],
        [
         "42",
         "1.038421052631"
        ],
        [
         "43",
         "1.038421052631"
        ],
        [
         "44",
         "21.929824561403"
        ],
        [
         "45",
         "1.108859649122"
        ],
        [
         "46",
         "58.84713073005"
        ],
        [
         "47",
         "107.309473684211"
        ],
        [
         "48",
         "107.309473684211"
        ],
        [
         "49",
         "107.309473684211"
        ]
       ],
       "shape": {
        "columns": 1,
        "rows": 999472
       }
      },
      "text/plain": [
       "0          21.929825\n",
       "1          21.929825\n",
       "2           0.000000\n",
       "3         512.848070\n",
       "4           0.000000\n",
       "             ...    \n",
       "999467    347.235175\n",
       "999468    347.235175\n",
       "999469    347.235175\n",
       "999470      2.315000\n",
       "999471      2.315000\n",
       "Name: Margin, Length: 999472, dtype: float64"
      ]
     },
     "execution_count": 11,
     "metadata": {},
     "output_type": "execute_result"
    }
   ],
   "source": [
    "df['Margin'] = df['TotalPremium'] - df['TotalClaims']\n",
    "df['Margin']"
   ]
  },
  {
   "cell_type": "markdown",
   "id": "285b7787",
   "metadata": {},
   "source": [
    "Data Segmentation and Statistical  Testing"
   ]
  },
  {
   "cell_type": "markdown",
   "id": "8de6f3c0",
   "metadata": {},
   "source": [
    "1.\tH₀:There are no risk differences across provinces "
   ]
  },
  {
   "cell_type": "code",
   "execution_count": 18,
   "id": "9a2b5e3d",
   "metadata": {},
   "outputs": [
    {
     "name": "stdout",
     "output_type": "stream",
     "text": [
      "ANOVA P-Value: 1.0022718272355673e-05\n",
      "Reject H₀: Provinces differ significantly in claim severity.\n"
     ]
    }
   ],
   "source": [
    "from scipy.stats import f_oneway\n",
    "\n",
    "# Filter only rows with claims\n",
    "claimed_df = df[df['HadClaim']]\n",
    "\n",
    "# Run ANOVA (since there are multiple provinces)\n",
    "groups = [group['TotalClaims'] for name, group in claimed_df.groupby('Province')]\n",
    "f_stat, p = f_oneway(*groups)\n",
    "\n",
    "print(f\"ANOVA P-Value: {p}\")\n",
    "if p < 0.05:\n",
    "    print(\"Reject H₀: Provinces differ significantly in claim severity.\")\n",
    "else:\n",
    "    print(\"Fail to reject H₀.\")\n"
   ]
  },
  {
   "cell_type": "markdown",
   "id": "d5e2a4d6",
   "metadata": {},
   "source": [
    "2.\tH₀:There are no risk differences between zip codes "
   ]
  },
  {
   "cell_type": "code",
   "execution_count": 19,
   "id": "abfab43c",
   "metadata": {},
   "outputs": [
    {
     "name": "stdout",
     "output_type": "stream",
     "text": [
      "ANOVA P-Value: 0.029871120348189457\n",
      "Reject H₀: PostalCodes differ significantly in claim severity.\n"
     ]
    }
   ],
   "source": [
    "from scipy.stats import f_oneway\n",
    "\n",
    "# Filter only rows with claims\n",
    "claimed_df = df[df['HadClaim']]\n",
    "\n",
    "# Run ANOVA (since there are multiple provinces)\n",
    "groups = [group['TotalClaims'] for name, group in claimed_df.groupby('PostalCode')]\n",
    "f_stat, p = f_oneway(*groups)\n",
    "\n",
    "print(f\"ANOVA P-Value: {p}\")\n",
    "if p < 0.05:\n",
    "    print(\"Reject H₀: PostalCodes differ significantly in claim severity.\")\n",
    "else:\n",
    "    print(\"Fail to reject H₀.\")\n"
   ]
  },
  {
   "cell_type": "markdown",
   "id": "27460d13",
   "metadata": {},
   "source": [
    "3.\tH₀:There are no significant margin (profit) difference between zip codes "
   ]
  },
  {
   "cell_type": "code",
   "execution_count": 22,
   "id": "701edc13",
   "metadata": {},
   "outputs": [
    {
     "name": "stdout",
     "output_type": "stream",
     "text": [
      "T-test P-Value: 0.6630316429729602\n",
      "Fail to reject null hypothesis.\n"
     ]
    }
   ],
   "source": [
    "from scipy.stats import ttest_ind\n",
    "\n",
    "df['Margin'] = df['TotalPremium'] - df['TotalClaims']\n",
    "\n",
    "group_a = df[df['PostalCode'] == 1459]['Margin']\n",
    "group_b = df[df['PostalCode'] == 1513]['Margin']\n",
    "\n",
    "t_stat, p = ttest_ind(group_a, group_b, equal_var=False)\n",
    "\n",
    "print(f\"T-test P-Value: {p}\")\n",
    "if p < 0.05:\n",
    "    print(\"Reject H₀: Margin differs between postal codes.\")\n",
    "else:\n",
    "    print(\"Fail to reject null hypothesis.\")\n"
   ]
  },
  {
   "cell_type": "markdown",
   "id": "484e54fb",
   "metadata": {},
   "source": [
    "4.\tH₀:There are not significant risk difference between Women and Men"
   ]
  },
  {
   "cell_type": "code",
   "execution_count": 20,
   "id": "568c6cc1",
   "metadata": {},
   "outputs": [
    {
     "name": "stdout",
     "output_type": "stream",
     "text": [
      "Chi-square Test P-Value: 0.0339731936612422\n",
      "Reject the null hypothesis: Claim frequency differs by Gender.\n"
     ]
    }
   ],
   "source": [
    "from scipy.stats import chi2_contingency\n",
    "\n",
    "# Contingency table: number of people with and without claims per gender\n",
    "contingency = pd.crosstab(df['Gender'], df['HadClaim'])\n",
    "\n",
    "# Chi-square test\n",
    "chi2, p, dof, expected = chi2_contingency(contingency)\n",
    "\n",
    "print(f\"Chi-square Test P-Value: {p}\")\n",
    "if p < 0.05:\n",
    "    print(\"Reject the null hypothesis: Claim frequency differs by Gender.\")\n",
    "else:\n",
    "    print(\"Fail to reject the null hypothesis: No significant difference.\")\n"
   ]
  }
 ],
 "metadata": {
  "kernelspec": {
   "display_name": "venv",
   "language": "python",
   "name": "python3"
  },
  "language_info": {
   "codemirror_mode": {
    "name": "ipython",
    "version": 3
   },
   "file_extension": ".py",
   "mimetype": "text/x-python",
   "name": "python",
   "nbconvert_exporter": "python",
   "pygments_lexer": "ipython3",
   "version": "3.13.3"
  }
 },
 "nbformat": 4,
 "nbformat_minor": 5
}
